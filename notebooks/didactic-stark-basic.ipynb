{
 "cells": [
  {
   "cell_type": "markdown",
   "id": "9a649e38097a6892",
   "metadata": {},
   "source": [
    "# A Didactic STARK\n",
    "\n",
    "This is a Python implementation of the STARK by Hand Explainer.\n",
    "https://dev.risczero.com/proof-system/stark-by-hand"
   ]
  },
  {
   "cell_type": "code",
   "id": "21664730-bc62-4536-9ac2-06973f51d9f0",
   "metadata": {
    "ExecuteTime": {
     "end_time": "2024-10-20T16:55:39.924382Z",
     "start_time": "2024-10-20T16:55:39.918633Z"
    }
   },
   "source": [
    "import galois\n",
    "import numpy as np\n",
    "from sympy import intt"
   ],
   "outputs": [],
   "execution_count": 64
  },
  {
   "cell_type": "markdown",
   "id": "3bfd1c5aa027e96",
   "metadata": {},
   "source": [
    "## Security Warning\n",
    "\n",
    "The finite field arithmetic implemented in galois are not constant-time, but were instead designed for performance. As such, the library could be vulnerable to a side-channel timing attack. This library is not intended for production security, but instead for research & development, reverse engineering, cryptanalysis, experimentation, and general education.\n",
    "\n",
    "## Preliminaries\n",
    "\n",
    "We use galois to define `_finite_field_array`. This functions like a `numpy` array, except that the array consists of elements of the finite field of size `_field_size`."
   ]
  },
  {
   "cell_type": "code",
   "id": "ddf2c16960356f86",
   "metadata": {
    "ExecuteTime": {
     "end_time": "2024-10-20T16:55:39.989555Z",
     "start_time": "2024-10-20T16:55:39.968194Z"
    }
   },
   "source": [
    "_field_size = 97\n",
    "_finite_field_array = galois.GF(_field_size)\n",
    "_primitive_root = _finite_field_array.primitive_element\n",
    "_trace_length = 8\n",
    "_reed_solomon_expansion_factor = 4\n",
    "_block_length = _trace_length * _reed_solomon_expansion_factor\n",
    "_generator = _primitive_root ** ((_field_size - 1) // _block_length)\n",
    "\n",
    "# An EvaluationDomain is a collection of points on which to evaluate a polynomialcp\n",
    "\n",
    "\n",
    "class EvaluationDomain:\n",
    "    # Construct by directly providing the domain as an array\n",
    "    def __init__(self, array):\n",
    "        self.size = len(array)\n",
    "        self.domain = array\n",
    "        if self.size > 1:\n",
    "            self.evaluation_domain_of_half_size = EvaluationDomain([self.domain[2 * i] for i in range(self.size // 2)])\n",
    "\n",
    "    # Alternate constructor\n",
    "    @classmethod\n",
    "    def from_shift_generator_size(self, shift, generator, size):\n",
    "        return EvaluationDomain(np.array([(shift * mod_pow(generator, i)) % _field_size for i in range(size)]))\n",
    "\n",
    "    # Method to construct evaluation matrix for the given domain\n",
    "    def as_vandermonde_matrix(self):\n",
    "        self.evaluationmatrix = np.array(\n",
    "            [[mod_pow(self.domain[j], i) for i in range(self.size)] for j in range(self.size)]\n",
    "        )\n",
    "        return self.evaluationmatrix\n",
    "\n",
    "    # Method to evaluate a given polynomial over the given domain\n",
    "    def evaluate(self, coeffs):\n",
    "        self.commitment = self.as_vandermonde_matrix() @ extendarray(coeffs, self.size) % _field_size\n",
    "        return self.commitment\n",
    "\n",
    "\n",
    "# A function that performs modular exponentiation\n",
    "def mod_pow(base, exp):\n",
    "    return pow(int(base), exp, _field_size)\n",
    "\n",
    "\n",
    "# A function that returns the reciprocal modulo _field_size\n",
    "def field_reciprocal(x):\n",
    "    # By Fermat's Little Theorem, x^95 is the reciprocal of x (for non-zero x).\n",
    "    x = _finite_field_array(x % _field_size)\n",
    "    xinv = _finite_field_array(1) / x\n",
    "    return xinv\n",
    "\n",
    "\n",
    "# A function that returns an element-wise reciprocal of an array, modulo _field_size\n",
    "def reciprocal_elementwise(array):\n",
    "    return [field_reciprocal(x) for x in array]\n",
    "\n",
    "\n",
    "# A function for extending a short array to a specified length:\n",
    "def extendarray(short_array, length):\n",
    "    size = len(short_array)\n",
    "    # Validating short array is not too big:\n",
    "    assert size <= length\n",
    "    long_array = [0] * length\n",
    "    # Write short_array contents into beginning of long_array:\n",
    "    long_array[:size] = short_array[:size]\n",
    "    return long_array\n",
    "\n",
    "\n",
    "# A function that evaluates a polynomial at a given input\n",
    "def evaluate_at_point(coeffs, x):\n",
    "    # We evaluate f(x) as the dot product of [coefficients] and [powers]=[1, x, x^2, ...]\n",
    "    powers = np.array([mod_pow(x, i) for i in range(len(coeffs))])\n",
    "    eval = np.dot(coeffs, powers)\n",
    "    return eval\n",
    "\n",
    "\n",
    "# Define mix function for inside FRI\n",
    "def mix(array, parameter):\n",
    "    mixed_array = np.array([0] * len(array[0]))\n",
    "    for i in range(len(array)):\n",
    "        assert len(array[i]) == len(array[0])\n",
    "        mixed_array = (mixed_array + (np.array(array[i]) * mod_pow(parameter, i))) % _field_size\n",
    "    return mixed_array\n",
    "\n",
    "\n",
    "# Define quotient function for DEEP\n",
    "def DEEPquotient(block, domain, testpoint, eval_testpoint):\n",
    "    eval_quotient = (block - eval_testpoint) * reciprocal_elementwise(domain - testpoint) % _field_size\n",
    "    return eval_quotient\n",
    "\n",
    "\n",
    "# Define a function that splits a block into 2 blocks of half the length\n",
    "def split(block, large_domain):\n",
    "    small_domain = large_domain.evaluation_domain_of_half_size\n",
    "    # Re-write block as a galois array\n",
    "    block = _finite_field_array(block)\n",
    "    evalmatrix_inv = np.linalg.inv(_finite_field_array(large_domain.as_vandermonde_matrix()))\n",
    "\n",
    "    # Given a block u, we construct smaller blocks v_0, v_1\n",
    "\n",
    "    # The defining relationship between u and v_i is easy to state in coefficient representation:\n",
    "    #   Writing u_bar as the coefficient form of u, and v_bar_i as the coefficient form of v_i, we write:\n",
    "    #   u_bar(x) = v_bar_0(x^2) + (x * v_bar_1(x^2))\n",
    "    # We compute the coefficients of v_bar_0 and v_bar_1 through the following matrix multiplication:\n",
    "    # _finite_field_array is the finite field of order _field_size:\n",
    "\n",
    "    # Computing coefficient form of input:\n",
    "    u_bar = evalmatrix_inv @ block\n",
    "\n",
    "    # Writing coefficients of output polynomials:\n",
    "    v_bar_0 = extendarray([u_bar[2 * i] for i in range(len(u_bar) // 2)], len(small_domain.domain))\n",
    "    v_bar_1 = extendarray([u_bar[1 + 2 * i] for i in range(len(u_bar) // 2)], len(small_domain.domain))\n",
    "\n",
    "    # Computing output blocks\n",
    "    v_0 = small_domain.evaluate(v_bar_0)\n",
    "    v_1 = small_domain.evaluate(v_bar_1)\n",
    "    return [v_0, v_1]\n",
    "\n",
    "\n",
    "def fri(block, input_domain, mixing_parameters, total_rounds, rounds_remaining):\n",
    "    while rounds_remaining > 0:\n",
    "        print(\"\\n--- begin round\", total_rounds - rounds_remaining + 1, \"---\")\n",
    "        print(\"D_super_(\", total_rounds - rounds_remaining, \"):\", input_domain.domain)\n",
    "        split0, split1 = split(block, input_domain)\n",
    "        next_domain = input_domain.evaluation_domain_of_half_size\n",
    "        print(\"Split blocks: \\n\", split0, \"\\n\", split1)\n",
    "        print(\"Now mix those blocks using the mix parameter\", mixing_parameters[0])\n",
    "        round_commitment = mix([split0, split1], mixing_parameters[0])\n",
    "        print(\n",
    "            \"FRI Commitment (aka f_super_(\",\n",
    "            total_rounds - rounds_remaining + 1,\n",
    "            \"):\",\n",
    "            round_commitment,\n",
    "        )\n",
    "        return fri(\n",
    "            round_commitment,\n",
    "            next_domain,\n",
    "            mixing_parameters[1:],\n",
    "            total_rounds,\n",
    "            rounds_remaining - 1,\n",
    "        )\n",
    "    if rounds_remaining == 0:\n",
    "        print(\"D_super_(\", total_rounds - rounds_remaining, \"):\", input_domain.domain)\n",
    "        return block"
   ],
   "outputs": [],
   "execution_count": 65
  },
  {
   "cell_type": "markdown",
   "id": "99d25134-c7b4-4848-87a3-87a16646f91c",
   "metadata": {},
   "source": [
    "# Lesson 1-3: The Padded Execution Trace\n",
    "\n",
    "Proving Computational Integrity of a Fibonacci Program mod `_field_size`\n"
   ]
  },
  {
   "cell_type": "markdown",
   "id": "ab271236-1fd6-45e0-bffe-8b0f809cded7",
   "metadata": {},
   "source": [
    "## Trace: Data Columns\n",
    "\n",
    "- We input `24` and `30` into a simple Fibonacci program. The inputs are loaded into `d1_trace[0]` and `d2_trace[0]`.\n",
    "- We compute 4 rounds of Fibonacci addition. At each round, we compute:  `d3_trace[i] = d1_trace[i] + d2_trace[i]`\n",
    "- After 4 rounds, `d3_trace[3]` contains the output of the computation.\n",
    "\n",
    "We claim that the following trace is a valid instantiation of this algorithm.The trace is organized into columns, which are divided into two types: **Data** & **Control**."
   ]
  },
  {
   "cell_type": "code",
   "id": "8a05ad1c-1735-4106-89b3-ad0befc6a57a",
   "metadata": {
    "ExecuteTime": {
     "end_time": "2024-10-20T16:55:40.079061Z",
     "start_time": "2024-10-20T16:55:40.073739Z"
    }
   },
   "source": [
    "d1_trace = np.array([24, 30, 54, 84, 78, 15, 29, 50])\n",
    "d2_trace = np.array([30, 54, 84, 41, 2, 77, 21, 36])\n",
    "d3_trace = np.array([54, 84, 41, 28, 71, 17, 92, 33])\n",
    "\n",
    "print(\"Trace Data Columns \\n\", d1_trace, \"\\n\", d2_trace, \"\\n\", d3_trace, \"\\n\")"
   ],
   "outputs": [
    {
     "name": "stdout",
     "output_type": "stream",
     "text": [
      "Trace Data Columns \n",
      " [24 30 54 84 78 15 29 50] \n",
      " [30 54 84 41  2 77 21 36] \n",
      " [54 84 41 28 71 17 92 33] \n",
      "\n"
     ]
    }
   ],
   "execution_count": 66
  },
  {
   "cell_type": "markdown",
   "id": "4e97f031-d31a-4593-9ae2-8f26d2a94ad7",
   "metadata": {},
   "source": [
    "## Trace: Control Columns\n",
    "\n",
    "Initial steps\n",
    "\n",
    "- Init steps are flagged in `c1_trace`\n",
    "- Computation steps are flagged in `c2_trace`\n",
    "- Termination step is flagged in `c3_trace`\n",
    "- 0s at the end of each control column correspond to the padding of the trace"
   ]
  },
  {
   "cell_type": "code",
   "id": "fb0657c0-62bf-4729-9caf-826a4b6ca406",
   "metadata": {
    "ExecuteTime": {
     "end_time": "2024-10-20T16:55:40.148759Z",
     "start_time": "2024-10-20T16:55:40.142056Z"
    }
   },
   "source": [
    "c1_trace = np.array([1, 0, 0, 0, 0, 0, 0, 0])\n",
    "c2_trace = np.array([0, 1, 1, 1, 0, 0, 0, 0])\n",
    "c3_trace = np.array([0, 0, 0, 1, 0, 0, 0, 0])\n",
    "\n",
    "print(\"Trace Control Columns \\n\", c1_trace, \"\\n\", c2_trace, \"\\n\", c3_trace, \"\\n\")\n",
    "\n",
    "trace_data = [d1_trace, d2_trace, d3_trace, c1_trace, c2_trace, c3_trace]"
   ],
   "outputs": [
    {
     "name": "stdout",
     "output_type": "stream",
     "text": [
      "Trace Control Columns \n",
      " [1 0 0 0 0 0 0 0] \n",
      " [0 1 1 1 0 0 0 0] \n",
      " [0 0 0 1 0 0 0 0] \n",
      "\n"
     ]
    }
   ],
   "execution_count": 67
  },
  {
   "cell_type": "markdown",
   "id": "ca3ac539-3f4b-461a-b150-e1f26de568ae",
   "metadata": {},
   "source": [
    "We will construct a zero-knowledge proof that:\n",
    "\n",
    "This trace represents a program that satisfies these 6 rules:\n",
    "1) Fibonacci words here\n",
    "2) `d1_trace[0] == 24`  (init 1 constraint)\n",
    "3) `d2_trace[0] == 30`  (init 2 constraint)\n",
    "4) `d3_trace[3] == 28`  (termination constraint)\n",
    "5) `if c2_trace[i] == 1`, then `d2_trace[i] == d1_trace[i+1]`\n",
    "6) `if c2_trace[i] == 1`, then `d3_trace[i] == d2_trace[i+1]`"
   ]
  },
  {
   "cell_type": "markdown",
   "id": "898e5cd0-c5e2-4ded-8dcb-2c4ca16d8b61",
   "metadata": {},
   "source": [
    "# Lesson 4: Constructing Trace Polynomials\n",
    "\n",
    "##  Trace Polynomials\n",
    "We run an iNTT on each trace column to construct the associated trace polynomial"
   ]
  },
  {
   "cell_type": "code",
   "id": "3e13438a-7254-48e1-9420-89c3cccfce72",
   "metadata": {
    "ExecuteTime": {
     "end_time": "2024-10-20T16:55:40.221287Z",
     "start_time": "2024-10-20T16:55:40.214876Z"
    }
   },
   "source": [
    "d1_coeffs = np.array(intt(d1_trace, prime=_field_size))\n",
    "d2_coeffs = np.array(intt(d2_trace, prime=_field_size))\n",
    "d3_coeffs = np.array(intt(d3_trace, prime=_field_size))\n",
    "c1_coeffs = np.array(intt(c1_trace, prime=_field_size))\n",
    "c2_coeffs = np.array(intt(c2_trace, prime=_field_size))\n",
    "c3_coeffs = np.array(intt(c3_trace, prime=_field_size))\n",
    "print(\n",
    "    \"Coefficients of Trace Polynomials 1,2,...,6: \\n\",\n",
    "    d1_coeffs,\n",
    "    \"\\n\",\n",
    "    d2_coeffs,\n",
    "    \"\\n\",\n",
    "    d3_coeffs,\n",
    "    \"\\n\",\n",
    "    c1_coeffs,\n",
    "    \"\\n\",\n",
    "    c2_coeffs,\n",
    "    \"\\n\",\n",
    "    c3_coeffs,\n",
    "    \"\\n\",\n",
    ")"
   ],
   "outputs": [
    {
     "name": "stdout",
     "output_type": "stream",
     "text": [
      "Coefficients of Trace Polynomials 1,2,...,6: \n",
      " [94 68 41 69 25 72 85 55] \n",
      " [31 31  0 87 76 66  6 24] \n",
      " [ 4 14 83 44 12 44 12 35] \n",
      " [85 85 85 85 85 85 85 85] \n",
      " [61 80 12 37 12 60 12 17] \n",
      " [85 89 27 18 12  8 70 79] \n",
      "\n"
     ]
    }
   ],
   "execution_count": 68
  },
  {
   "cell_type": "markdown",
   "id": "191746f4-b83d-4931-91d5-41900c3ccaf6",
   "metadata": {},
   "source": [
    "# Evaluating Trace Polynomials\n",
    "\n",
    "Evaluating Trace Polynomials over the powers of 5^12 would return the original trace data.\n",
    "\n",
    "Evaluating Trace Polynomials over the \"expanded domain\" gives a \"trace block.\""
   ]
  },
  {
   "cell_type": "code",
   "id": "eb7d2fd7-059c-498b-903d-12ad710596bf",
   "metadata": {
    "ExecuteTime": {
     "end_time": "2024-10-20T16:55:40.307408Z",
     "start_time": "2024-10-20T16:55:40.291397Z"
    }
   },
   "source": [
    "expanded_domain = EvaluationDomain.from_shift_generator_size(1, 5**3, 32)\n",
    "d1_reedsolomonexpansion = expanded_domain.evaluate(d1_coeffs)\n",
    "d2_reedsolomonexpansion = expanded_domain.evaluate(d2_coeffs)\n",
    "d3_reedsolomonexpansion = expanded_domain.evaluate(d3_coeffs)\n",
    "c1_reedsolomonexpansion = expanded_domain.evaluate(c1_coeffs)\n",
    "c2_reedsolomonexpansion = expanded_domain.evaluate(c2_coeffs)\n",
    "c3_reedsolomonexpansion = expanded_domain.evaluate(c3_coeffs)\n",
    "print(\n",
    "    \"Reed Solomon Expansion of Trace Blocks: \\n\",\n",
    "    d1_reedsolomonexpansion,\n",
    "    \"\\n\",\n",
    "    d2_reedsolomonexpansion,\n",
    "    \"\\n\",\n",
    "    d3_reedsolomonexpansion,\n",
    "    \"\\n\",\n",
    "    c1_reedsolomonexpansion,\n",
    "    \"\\n\",\n",
    "    c2_reedsolomonexpansion,\n",
    "    \"\\n\",\n",
    "    c3_reedsolomonexpansion,\n",
    ")"
   ],
   "outputs": [
    {
     "name": "stdout",
     "output_type": "stream",
     "text": [
      "Reed Solomon Expansion of Trace Blocks: \n",
      " [24 27 74 77 30 37 62  3 54 42 96 69 84 36 26 37 78 71 24 70 15 31 38 71\n",
      " 29 40 54 19 50 80 87 18] \n",
      " [30 33 14 31 54 76 85 84 84 14 18  3 41 15 16 77  2 90 15 66 77  8 20 19\n",
      " 21 43 72 92 36 66  8 70] \n",
      " [54 43 27 88 84 67 34 63 41 11 86 29 28 54 31  1 71 82 14 75 17 76 67 14\n",
      " 92 42 72 90 33 45 89 60] \n",
      " [ 1 23 45 53  0 72 83 70  0 10 60 25  0 53 11 68  0  2 62 13  0 26 13 86\n",
      "  0 46 87 80  0 60 28 91] \n",
      " [ 0 35 31 63  1 32 63 30  1 58 59 20  1  8 91 51  0 38 57 66  0 65 36  9\n",
      "  0 81 86 70  0 74 65 82] \n",
      " [ 0 26 13 86  0 46 87 80  0 60 28 91  1 23 45 53  0 72 83 70  0 10 60 25\n",
      "  0 53 11 68  0  2 62 13]\n"
     ]
    }
   ],
   "execution_count": 69
  },
  {
   "cell_type": "markdown",
   "id": "d6b0ec2e-129e-40db-9744-c5e7dd5ce927",
   "metadata": {},
   "source": [
    "Note that every 4th entry matches the original trace data.\n",
    "\n",
    "This is a degree 4 Reed Solomon expansion of the original trace:"
   ]
  },
  {
   "cell_type": "code",
   "id": "7ec52661-4ea5-4c97-965b-11c67b9ef2f5",
   "metadata": {
    "ExecuteTime": {
     "end_time": "2024-10-20T16:55:40.369383Z",
     "start_time": "2024-10-20T16:55:40.365846Z"
    }
   },
   "source": [
    "trace_reedsolomonexpansion = np.array(\n",
    "    [\n",
    "        d1_reedsolomonexpansion,\n",
    "        d2_reedsolomonexpansion,\n",
    "        d3_reedsolomonexpansion,\n",
    "        c1_reedsolomonexpansion,\n",
    "        c2_reedsolomonexpansion,\n",
    "        c3_reedsolomonexpansion,\n",
    "    ]\n",
    ")"
   ],
   "outputs": [],
   "execution_count": 70
  },
  {
   "cell_type": "markdown",
   "id": "306f95a6-6674-4c7c-84fb-3893ed732959",
   "metadata": {},
   "source": [
    "# Lesson 5: ZK Commitments of the Trace Data\n",
    "\n",
    "To maintain a zero-knowledge protocol, the trace polynomials are evaluated over a \"zk commitment domain\", {5^1, 5^4, ..., 5^94}.\n",
    "\n",
    "Evaluating Trace Polynomials over the zk commitment domain gives \"zero-knowledge trace blocks.\""
   ]
  },
  {
   "cell_type": "code",
   "id": "af60c1e9-7c6a-4bc1-9afd-18505d09c0a7",
   "metadata": {
    "ExecuteTime": {
     "end_time": "2024-10-20T16:55:40.447360Z",
     "start_time": "2024-10-20T16:55:40.430503Z"
    }
   },
   "source": [
    "zk_commitment_domain = EvaluationDomain.from_shift_generator_size(5, 5**3, 32)\n",
    "d1_zkcommitment = zk_commitment_domain.evaluate(d1_coeffs)\n",
    "d2_zkcommitment = zk_commitment_domain.evaluate(d2_coeffs)\n",
    "d3_zkcommitment = zk_commitment_domain.evaluate(d3_coeffs)\n",
    "c1_zkcommitment = zk_commitment_domain.evaluate(c1_coeffs)\n",
    "c2_zkcommitment = zk_commitment_domain.evaluate(c2_coeffs)\n",
    "c3_zkcommitment = zk_commitment_domain.evaluate(c3_coeffs)\n",
    "print(\n",
    "    \"Zero-Knowledge Trace Blocks: \\n\",\n",
    "    d1_zkcommitment,\n",
    "    \"\\n\",\n",
    "    d2_zkcommitment,\n",
    "    \"\\n\",\n",
    "    d3_zkcommitment,\n",
    "    \"\\n\",\n",
    "    c1_zkcommitment,\n",
    "    \"\\n\",\n",
    "    c2_zkcommitment,\n",
    "    \"\\n\",\n",
    "    c3_zkcommitment,\n",
    ")"
   ],
   "outputs": [
    {
     "name": "stdout",
     "output_type": "stream",
     "text": [
      "Zero-Knowledge Trace Blocks: \n",
      " [31 15 96 79 69 31 16 71 35 10 53 28 67 26  0 45 91 94 18 80 54 39 16 19\n",
      " 57 74 40 43 57 75 28 96] \n",
      " [39 36 65 41 35 85 41 24 77 40 54  7 81  2 54 36 59 39 82 36 12 46 16 49\n",
      " 23 89 96 54 19  8 34  1] \n",
      " [12 11  6 88 49 50 69 89 46  9 58 95 80 73 76 80 35 57 19 44 61 78 16 95\n",
      " 47 18 42 72 90 27 37 51] \n",
      " [82 18 32 68 81 41 18 86 92 59 14 44 43 31  8 92 10 71 50 89  2 32 65 22\n",
      " 32 16 38 50 47 24 67 35] \n",
      " [81 72 73 10 64 58 40 56 16 83 20 92 61 21 64  4 22 34 40 28 48 64 72 31\n",
      " 55 37 26  9 44 22 56 64] \n",
      " [ 2 32 65 22 32 16 38 50 47 24 67 35 82 18 32 68 81 41 18 86 92 59 14 44\n",
      " 43 31  8 92 10 71 50 89]\n"
     ]
    }
   ],
   "execution_count": 71
  },
  {
   "cell_type": "markdown",
   "id": "19ea4e7b-db69-4729-8de3-ecf5c357bdf8",
   "metadata": {},
   "source": [
    "These zk-commitment blocks do not share any evaluation points with the original trace data.\n",
    "\n",
    "These evaluations are committed to Merkle Trees (one for the data blocks and one for the control blocks).\n",
    "\n",
    "The term \"polynomial commitment\" describes this process of a Merkle commitment where the leaves of the tree are evaluations of a polynomial.\n",
    "\n",
    "The root of these two Merkle Trees are the first entries on the RISC Zero seal.\n",
    "\n",
    "The third entry on the RISC Zero seal is an `Accum` commitment; that commitment is not necessary in this simplified example."
   ]
  },
  {
   "cell_type": "code",
   "id": "b6e0d617-3fd5-433e-bf29-ba8c476dfefd",
   "metadata": {
    "ExecuteTime": {
     "end_time": "2024-10-20T16:55:40.508044Z",
     "start_time": "2024-10-20T16:55:40.503431Z"
    }
   },
   "source": [
    "trace_zkcommitment = np.array(\n",
    "    [\n",
    "        d1_zkcommitment,\n",
    "        d2_zkcommitment,\n",
    "        d3_zkcommitment,\n",
    "        c1_zkcommitment,\n",
    "        c2_zkcommitment,\n",
    "        c3_zkcommitment,\n",
    "    ]\n",
    ")"
   ],
   "outputs": [],
   "execution_count": 72
  },
  {
   "cell_type": "markdown",
   "id": "14014bb8-50b1-4fab-8c21-2c10877c1b83",
   "metadata": {},
   "source": [
    "# Lesson 6: Constraint Polynomials\n",
    "\n",
    "The constraints are used to check the correctness of the trace. In this example, we check 6 rules to establish the validity of the trace.\n",
    "\n",
    "Applying rule checks to trace blocks makes constraint blocks.\n",
    "A constraint block has 0s in every 4th row -- these 0s indicate the passing of the various rulechecks.\n",
    "\n",
    "Applying rule checks to zk-commitment trace blocks makes zk-commitment constraint blocks.\n",
    "Similarly, applying rule checks to trace polynomials makes constraint polynomials.\n",
    "In code, this happens in terms of trace blocks."
   ]
  },
  {
   "cell_type": "code",
   "id": "6add9180-5978-4ac0-a0fb-65937c58ef7f",
   "metadata": {
    "ExecuteTime": {
     "end_time": "2024-10-20T16:55:40.570865Z",
     "start_time": "2024-10-20T16:55:40.564837Z"
    }
   },
   "source": [
    "def fib_constraint(trace):\n",
    "    # trace[2] - trace[1] - trace[0] returns 0 when the fibonacci addition relation holds.\n",
    "    # trace[3] + trace[4] + trace[5] returns 0 when we aren't enforcing this rule.\n",
    "    # The product of these two terms returns 0 at each row of the original trace.\n",
    "    constraint = np.multiply((trace[2] - trace[1] - trace[0]), trace[3] + trace[4] + trace[5]) % _field_size\n",
    "    return constraint\n",
    "\n",
    "\n",
    "fib_constraint_columns = fib_constraint(trace_data)\n",
    "fib_constraint_reedsolomonexpansion = fib_constraint(trace_reedsolomonexpansion)\n",
    "fib_constraint_zkcommitment = fib_constraint(trace_zkcommitment)\n",
    "\n",
    "print(\n",
    "    \"Applied to the original trace data, the constraint yields all 0s: \\n\",\n",
    "    fib_constraint_columns,\n",
    ")\n",
    "print(\n",
    "    \"Applied to the Reed-Solomon expanded trace blocks, the constraint yields 0s in every 4th row: \\n\",\n",
    "    fib_constraint_reedsolomonexpansion,\n",
    ")"
   ],
   "outputs": [
    {
     "name": "stdout",
     "output_type": "stream",
     "text": [
      "Applied to the original trace data, the constraint yields all 0s: \n",
      " [0 0 0 0 0 0 0 0]\n",
      "Applied to the Reed-Solomon expanded trace blocks, the constraint yields 0s in every 4th row: \n",
      " [ 0 27  3 34  0 84 55 45  0 60 55 69  0 58 32 61  0 76 91 29  0 51 11 95\n",
      "  0 89 55 78  0 38 40 30]\n"
     ]
    }
   ],
   "execution_count": 73
  },
  {
   "cell_type": "markdown",
   "id": "d69b326f-1ac6-4d24-aed6-6a2163226623",
   "metadata": {},
   "source": [
    "In practice, we apply these rule-checks to the trace blocks (i.e., the evaluations of the trace polynomials over the zk-commitment domain).\n",
    "\n",
    "Although the zeros are no longer apparent, this block still corresponds to the evaluation of a polynomial whose degree is bounded by 2l where l is the length of the trace.\n",
    "\n",
    "The 6 constraint blocks and the associated polynomials, along with the coefficients of the associated polynomials, are shown below:"
   ]
  },
  {
   "cell_type": "code",
   "id": "3cb69498-7c23-4807-877e-399e7f24ce6d",
   "metadata": {
    "ExecuteTime": {
     "end_time": "2024-10-20T16:55:40.660103Z",
     "start_time": "2024-10-20T16:55:40.644033Z"
    }
   },
   "source": [
    "def init1_constraint(trace):\n",
    "    # trace[0] - 24 returns 0 when the value loaded into the program matches the asserted input of 24\n",
    "    # trace[3] returns 0 when we aren't enforcing this rule.\n",
    "    # The product of these two terms returns 0 at each row of the original trace.\n",
    "    constraint = np.multiply(trace[0] - 24, trace[3]) % _field_size\n",
    "    return constraint\n",
    "\n",
    "\n",
    "init1_constraint_columns = init1_constraint(trace_data)\n",
    "init1_constraint_reedsolomonexpansion = init1_constraint(trace_reedsolomonexpansion)\n",
    "init1_constraint_zkcommitment = init1_constraint(trace_zkcommitment)\n",
    "\n",
    "\n",
    "def init2_constraint(trace):\n",
    "    # trace[1] - 30 returns 0 when the value loaded into the program matches the asserted input of 30\n",
    "    # trace[3] returns 0 when we aren't enforcing this rule.\n",
    "    # The product of these two terms returns 0 at each row of the original trace.\n",
    "    constraint = np.multiply(trace[1] - 30, trace[3]) % _field_size\n",
    "    return constraint\n",
    "\n",
    "\n",
    "init2_constraint_columns = init2_constraint(trace_data)\n",
    "init2_constraint_reedsolomonexpansion = init2_constraint(trace_reedsolomonexpansion)\n",
    "init2_constraint_zkcommitment = init2_constraint(trace_zkcommitment)\n",
    "\n",
    "\n",
    "def termination_constraint(trace):\n",
    "    # trace[2] - 28 returns 0 when the value loaded into the program matches the asserted input of 30\n",
    "    # trace[5] returns 0 when we aren't enforcing this rule.\n",
    "    # The product of these two terms returns 0 at each row of the original trace.\n",
    "    constraint = np.multiply(trace[2] - 28, trace[5]) % _field_size\n",
    "    return constraint\n",
    "\n",
    "\n",
    "termination_constraint_columns = termination_constraint(trace_data)\n",
    "termination_constraint_reedsolomonexpansion = termination_constraint(trace_reedsolomonexpansion)\n",
    "termination_constraint_zkcommitment = termination_constraint(trace_zkcommitment)\n",
    "\n",
    "\n",
    "def first_recursion_constraint(trace):\n",
    "    # We check that the ith term in trace[0] matches the \"previous\" term in trace[1].\n",
    "    # We use \"previous\" to mean \"one computational step before.\"\n",
    "    # i.e., for trace_columns, we're checking trace[0][i] against trace[0][i-1], while\n",
    "    # for trace_zkcommitment and trace_reedsolomonexpansion, we're checking trace[0][i] vs. trace[1][i-4]\n",
    "    # We express this length-dependent step-size as len(trace[0])//8\n",
    "    # We also use \"previous\" in a cyclical sense, wrapping around to the end of the trace.\n",
    "    # Putting this together, the relation we are checking is:\n",
    "    #   trace[0][i] - trace[1][i - len(trace[0])//8 % len(trace[0])\n",
    "    # trace[4] is the associated indicator column; trace[4][i] = 0 when this rule isn't enforced.\n",
    "    constraint = np.zeros(len(trace[0]), int)\n",
    "    for i in range(len(trace[0])):\n",
    "        constraint[i] = ((trace[0][i] - trace[1][i - len(trace[0]) // 8 % len(trace[0])]) * trace[4][i]) % _field_size\n",
    "        constraint = np.array(constraint)\n",
    "    return constraint\n",
    "\n",
    "\n",
    "first_recursion_constraint_columns = first_recursion_constraint(trace_data)\n",
    "first_recursion_constraint_reedsolomonexpansion = first_recursion_constraint(trace_reedsolomonexpansion)\n",
    "first_recursion_constraint_zkcommitment = first_recursion_constraint(trace_zkcommitment)\n",
    "\n",
    "\n",
    "def second_recursion_constraint(trace):\n",
    "    # We check that the ith term in trace[1] matches the \"previous\" term in trace[2].\n",
    "    # See first_recursion_constraint for explanation of \"previous.\"\n",
    "    # trace[4] is the associated indicator column; trace[4][i] = 0 when this rule isn't enforced.\n",
    "    constraint = np.zeros(len(trace[0]), int)\n",
    "    for i in range(len(trace[0])):\n",
    "        constraint[i] = ((trace[1][i] - trace[2][i - len(trace[0]) // 8 % len(trace[0])]) * trace[4][i]) % _field_size\n",
    "        constraint = np.array(constraint)\n",
    "    return constraint\n",
    "\n",
    "\n",
    "second_recursion_constraint_columns = second_recursion_constraint(trace_data)\n",
    "second_recursion_constraint_reedsolomonexpansion = second_recursion_constraint(trace_reedsolomonexpansion)\n",
    "second_recursion_constraint_zkcommitment = second_recursion_constraint(trace_zkcommitment)\n",
    "\n",
    "print(\"Constraint Blocks:\")\n",
    "print(\"Fib Constraint: \\n\", fib_constraint_zkcommitment)\n",
    "print(\"Init1 Constraint: \\n\", init1_constraint_zkcommitment)\n",
    "print(\"Init2 Constraint: \\n\", init2_constraint_zkcommitment)\n",
    "print(\"Termination Constraint: \\n\", termination_constraint_zkcommitment)\n",
    "print(\"First Recursion Constraint: \\n\", first_recursion_constraint_zkcommitment)\n",
    "print(\n",
    "    \"Second Recursion Constraint: \\n\",\n",
    "    second_recursion_constraint_zkcommitment,\n",
    "    \"\\n\",\n",
    ")"
   ],
   "outputs": [
    {
     "name": "stdout",
     "output_type": "stream",
     "text": [
      "Constraint Blocks:\n",
      "Fib Constraint: \n",
      " [33 67 34  1 62 73 85 12 52 81 95 75 59 46 57 30  3 59 79 31 66 79  9  0\n",
      " 75 42 22  8 56 44 40 82]\n",
      "Init1 Constraint: \n",
      " [89 32 73 54 56 93 50 65 42 47 18 79  6 62  2 89 88 23 88 37 60 92 62 84\n",
      " 86 24 26 77 96 60 74 95]\n",
      "Init2 Constraint: \n",
      " [59 11 53 69 17 24  4 66 56  8 45 55 59  5 95 67 96 57 78 49 61 27 60 30\n",
      " 67 71 83 36 65 54 74 52]\n",
      "Termination Constraint: \n",
      " [65 38 25 59 90 61  6 43 70 29 70 17 93 34 81 44 82 25 32 18 29 40 26 38\n",
      " 41 78 15 71 38 26 62 10]\n",
      "First Recursion Constraint: \n",
      " [ 2 19 64  4 77  1 77 31  0 80 46 77 69 94 36 55 26 24 15 68 51  0  1 55\n",
      " 50 66 42 43 41 80 72 69]\n",
      "Second Recursion Constraint: \n",
      " [40 66  7 94 17 24 42  5 60 43 88 22  1 47 35 55 23  8 46 29 60 72 75 58\n",
      " 44 19 43 19 29 71 37 15] \n",
      "\n"
     ]
    }
   ],
   "execution_count": 74
  },
  {
   "cell_type": "markdown",
   "id": "8a0a1fd4-54c0-462d-90e2-2f63adbe7054",
   "metadata": {},
   "source": [
    "# Lesson 7: Mixing Constraint Polynomials\n",
    "\n",
    "We mix the constraint polynomials into a single mixed constraint polynomial.\n",
    "In practice, this is a mix of evaluations over the zk-commitment domain.\n",
    "For clarity, we show the Mixed Constraint Polynomial as evaluations over the same three domains as above."
   ]
  },
  {
   "cell_type": "code",
   "id": "75050d49-000e-45ad-a1ed-89eeb82aecfc",
   "metadata": {
    "ExecuteTime": {
     "end_time": "2024-10-20T16:55:40.719111Z",
     "start_time": "2024-10-20T16:55:40.714609Z"
    }
   },
   "source": [
    "mixed_constraint_poly_columns = mix(\n",
    "    [\n",
    "        fib_constraint_columns,\n",
    "        init1_constraint_columns,\n",
    "        init2_constraint_columns,\n",
    "        termination_constraint_columns,\n",
    "        first_recursion_constraint_columns,\n",
    "        second_recursion_constraint_columns,\n",
    "    ],\n",
    "    3,\n",
    ")\n",
    "mixed_constraint_poly_reedsolomonexpansion = mix(\n",
    "    [\n",
    "        fib_constraint_reedsolomonexpansion,\n",
    "        init1_constraint_reedsolomonexpansion,\n",
    "        init2_constraint_reedsolomonexpansion,\n",
    "        termination_constraint_reedsolomonexpansion,\n",
    "        first_recursion_constraint_reedsolomonexpansion,\n",
    "        second_recursion_constraint_reedsolomonexpansion,\n",
    "    ],\n",
    "    3,\n",
    ")\n",
    "mixed_constraint_poly_zkcommitment = mix(\n",
    "    [\n",
    "        fib_constraint_zkcommitment,\n",
    "        init1_constraint_zkcommitment,\n",
    "        init2_constraint_zkcommitment,\n",
    "        termination_constraint_zkcommitment,\n",
    "        first_recursion_constraint_zkcommitment,\n",
    "        second_recursion_constraint_zkcommitment,\n",
    "    ],\n",
    "    3,\n",
    ")"
   ],
   "outputs": [],
   "execution_count": 75
  },
  {
   "metadata": {},
   "cell_type": "markdown",
   "source": [
    "Although they stay in evaluation form throughout the protocol, we show the constraint polynomials in coefficient form for didactic clarity and trouble-shooting. To convert between coefficient form and evaluation form of a given polynomial, we use iNTTs and NTTs.\n",
    "\n",
    "Computing coefficients of Constraint Polynomials:"
   ],
   "id": "f4bc8422df449c1f"
  },
  {
   "metadata": {
    "ExecuteTime": {
     "end_time": "2024-10-20T16:55:40.787438Z",
     "start_time": "2024-10-20T16:55:40.779924Z"
    }
   },
   "cell_type": "code",
   "source": [
    "fib_constraintPoly_coeffs = intt(fib_constraint_reedsolomonexpansion, prime=_field_size)\n",
    "init1_constraintPoly_coeffs = intt(init1_constraint_reedsolomonexpansion, prime=_field_size)\n",
    "init2_constraintPoly_coeffs = intt(init2_constraint_reedsolomonexpansion, prime=_field_size)\n",
    "termination_constraintPoly_coeffs = intt(termination_constraint_reedsolomonexpansion, prime=_field_size)\n",
    "first_recursion_constraintPoly_coeffs = intt(first_recursion_constraint_reedsolomonexpansion, prime=_field_size)\n",
    "second_recursion_constraintPoly_coeffs = intt(second_recursion_constraint_reedsolomonexpansion, prime=_field_size)\n",
    "mixed_constraint_poly_coeffs = intt(mixed_constraint_poly_reedsolomonexpansion, prime=_field_size)\n",
    "\n",
    "print(\"Coefficients of Constraint Polynomials:\")\n",
    "print(\"Fibonacci Constraint: \", fib_constraintPoly_coeffs)\n",
    "print(\"Init1 Constraint: \", init1_constraintPoly_coeffs)\n",
    "print(\"Init2 Constraint: \", init2_constraintPoly_coeffs)\n",
    "print(\"Termination Constraint: \", termination_constraintPoly_coeffs)\n",
    "print(\"First Recursion Constraint: \", first_recursion_constraintPoly_coeffs)\n",
    "print(\"Second Recursion Constraint: \", second_recursion_constraintPoly_coeffs, \"\\n\")\n",
    "print(\"Mixed Constraint Coefficients: \\n\", mixed_constraint_poly_coeffs, \"\\n\")"
   ],
   "id": "86c4d35a11a0f424",
   "outputs": [
    {
     "name": "stdout",
     "output_type": "stream",
     "text": [
      "Coefficients of Constraint Polynomials:\n",
      "Fibonacci Constraint:  [82, 71, 74, 93, 79, 16, 10, 0, 15, 26, 23, 4, 18, 81, 87, 0, 0, 0, 0, 0, 0, 0, 0, 0, 0, 0, 0, 0, 0, 0, 0, 0]\n",
      "Init1 Constraint:  [33, 90, 83, 31, 22, 31, 78, 0, 64, 7, 14, 66, 75, 66, 19, 0, 0, 0, 0, 0, 0, 0, 0, 0, 0, 0, 0, 0, 0, 0, 0, 0]\n",
      "Init2 Constraint:  [85, 4, 4, 27, 85, 69, 94, 0, 12, 93, 93, 70, 12, 28, 3, 0, 0, 0, 0, 0, 0, 0, 0, 0, 0, 0, 0, 0, 0, 0, 0, 0]\n",
      "Termination Constraint:  [94, 24, 87, 15, 60, 94, 48, 0, 3, 73, 10, 82, 37, 3, 49, 0, 0, 0, 0, 0, 0, 0, 0, 0, 0, 0, 0, 0, 0, 0, 0, 0]\n",
      "First Recursion Constraint:  [60, 45, 1, 90, 61, 44, 54, 0, 37, 52, 96, 7, 36, 53, 43, 0, 0, 0, 0, 0, 0, 0, 0, 0, 0, 0, 0, 0, 0, 0, 0, 0]\n",
      "Second Recursion Constraint:  [95, 94, 52, 30, 62, 35, 36, 0, 2, 3, 45, 67, 35, 62, 61, 0, 0, 0, 0, 0, 0, 0, 0, 0, 0, 0, 0, 0, 0, 0, 0, 0] \n",
      "\n",
      "Mixed Constraint Coefficients: \n",
      " [1, 61, 2, 88, 33, 11, 85, 0, 96, 36, 95, 9, 64, 86, 12, 0, 0, 0, 0, 0, 0, 0, 0, 0, 0, 0, 0, 0, 0, 0, 0, 0] \n",
      "\n"
     ]
    }
   ],
   "execution_count": 76
  },
  {
   "metadata": {},
   "cell_type": "markdown",
   "source": [
    "We now introduce the Zeros Polynomial, which is used to compute the Validity Polynomial.\n",
    "\n",
    "The Zeros Polynomial is Z(x) = x^8 - 1\n",
    "\n",
    "Remember the \"difference of perfect squares\" from Algebra II?\n",
    "\n",
    "It turns out that this \"difference of perfect 8th powers\" works out very nicely over finite fields.\n",
    "\n",
    "Z(x) = (x - 5^0)(x - 5^12)(x - 5^24)...(x-5^84)\n",
    "\n",
    "The next term in the pattern would be (x-5^96), which \"wraps around\" quite nicely since 5^0 = 5^96."
   ],
   "id": "d2dc116a19dc3f7a"
  },
  {
   "metadata": {
    "ExecuteTime": {
     "end_time": "2024-10-20T16:55:40.866470Z",
     "start_time": "2024-10-20T16:55:40.851822Z"
    }
   },
   "cell_type": "code",
   "source": [
    "zeros_poly_coeffs = [-1, 0, 0, 0, 0, 0, 0, 0, 1]\n",
    "zeros_poly_evals_reedsolomonexpansion = expanded_domain.evaluate(zeros_poly_coeffs)\n",
    "zeros_poly_evals_zkcommitment = zk_commitment_domain.evaluate(zeros_poly_coeffs)\n",
    "print(\"Zeros Polynomial coefficients: \\n\", zeros_poly_coeffs)\n",
    "print(\n",
    "    \"Zeros Polynomial evaluated on Reed Solomon expansion domain: \\n\",\n",
    "    zeros_poly_evals_reedsolomonexpansion,\n",
    ")\n",
    "print(\n",
    "    \"Zeros Polynomial evaluated on zk-commitment domain: \\n\",\n",
    "    zeros_poly_evals_zkcommitment,\n",
    "    \"\\n\",\n",
    ")\n",
    "\n",
    "# Constructing reciprocals of Zeros Polynomial evals to facilitate computation\n",
    "reciprocals_of_zeros_poly = reciprocal_elementwise(zeros_poly_evals_zkcommitment)"
   ],
   "id": "92f37e801feb195e",
   "outputs": [
    {
     "name": "stdout",
     "output_type": "stream",
     "text": [
      "Zeros Polynomial coefficients: \n",
      " [-1, 0, 0, 0, 0, 0, 0, 0, 1]\n",
      "Zeros Polynomial evaluated on Reed Solomon expansion domain: \n",
      " [ 0 21 95 74  0 21 95 74  0 21 95 74  0 21 95 74  0 21 95 74  0 21 95 74\n",
      "  0 21 95 74  0 21 95 74]\n",
      "Zeros Polynomial evaluated on zk-commitment domain: \n",
      " [ 5 34 90 61  5 34 90 61  5 34 90 61  5 34 90 61  5 34 90 61  5 34 90 61\n",
      "  5 34 90 61  5 34 90 61] \n",
      "\n"
     ]
    }
   ],
   "execution_count": 77
  },
  {
   "cell_type": "markdown",
   "id": "fba23bd3-f3a3-47fb-b148-6af8bb9920b7",
   "metadata": {},
   "source": [
    "# Lesson 8: The core of the RISC Zero STARK\n",
    "\n",
    "## Constructing Validity Polynomial\n",
    "\n",
    "The Validity Polynomial is the quotient of the Mixed Constraint Polynomial and the Zeros Polynomial.\n",
    "\n",
    "These evaluations are committed to a Merkle tree, and the root of that tree is appended to the seal.\n",
    "The rest of the protocol aims to prove that the commitments for the trace polynomials and the validity polynomials are actually evaluations of low-degree polynomials that satisfy V=C/Z as asserted.\"\n",
    "\n",
    "Constructing coefficients of validity polynomial for use in DEEP:"
   ]
  },
  {
   "metadata": {
    "ExecuteTime": {
     "end_time": "2024-10-20T16:55:40.992624Z",
     "start_time": "2024-10-20T16:55:40.970083Z"
    }
   },
   "cell_type": "code",
   "source": [
    "validity_polynomial_evals = np.multiply(mixed_constraint_poly_zkcommitment, reciprocals_of_zeros_poly) % _field_size\n",
    "print(\n",
    "    \"Evaluations of Validity Polynomial on zk-commitment domain \\n\",\n",
    "    validity_polynomial_evals,\n",
    "    \"\\n\",\n",
    ")\n",
    "\n",
    "evalmatrix_inv = np.linalg.inv(_finite_field_array(zk_commitment_domain.as_vandermonde_matrix()))\n",
    "validity_polynomial_coeffs = np.array(evalmatrix_inv @ _finite_field_array(validity_polynomial_evals))"
   ],
   "id": "772ef93dae0518b9",
   "outputs": [
    {
     "name": "stdout",
     "output_type": "stream",
     "text": [
      "Evaluations of Validity Polynomial on zk-commitment domain \n",
      " [88 67 49 53 56 85 28 36 16 56 13 23 83 13 45 29 74 96 77 85 42 39 48 48\n",
      " 59 69 18 51 59 52  5 55] \n",
      "\n"
     ]
    }
   ],
   "execution_count": 78
  },
  {
   "cell_type": "markdown",
   "id": "9c8fe744-f563-4ca0-828e-608676fcedaf",
   "metadata": {},
   "source": [
    "# Lesson 9: The DEEP Technique\n",
    "\n",
    "The DEEP technique is a means of improving the security level associated with a single query by sampling from a larger domain than the commitment domain.\n",
    "\n",
    "The prover provides information to convince the verifier that the Merkle commitments satisfy the relation V=C/Z at the `DEEP_test_point`."
   ]
  },
  {
   "cell_type": "code",
   "id": "70957de3-48cd-4de7-a8e3-889f424d299d",
   "metadata": {
    "ExecuteTime": {
     "end_time": "2024-10-20T16:55:41.085833Z",
     "start_time": "2024-10-20T16:55:41.046940Z"
    }
   },
   "source": [
    "DEEP_test_point = 93\n",
    "\n",
    "# The DEEP Polynomials all share the following denominator.\n",
    "DEEPdenom = (zk_commitment_domain.domain - DEEP_test_point) % _field_size\n",
    "\n",
    "# We rewrite DEEPdenom in terms of reciprocals to facilitate computation later:\n",
    "DEEPdenom = reciprocal_elementwise(DEEPdenom)\n",
    "\n",
    "# TODO: Implement Interpolation of taps for DEEP_poly2 & DEEP_poly3\n",
    "\n",
    "DEEP_poly1_evals = DEEPquotient(\n",
    "    d1_zkcommitment,\n",
    "    zk_commitment_domain.domain,\n",
    "    DEEP_test_point,\n",
    "    evaluate_at_point(d1_coeffs, DEEP_test_point),\n",
    ")\n",
    "# DEEP_poly2 = hard-coded for now\n",
    "# DEEP Poly 3 = hard-coded for now\n",
    "DEEP_poly4_evals = DEEPquotient(\n",
    "    c1_zkcommitment,\n",
    "    zk_commitment_domain.domain,\n",
    "    DEEP_test_point,\n",
    "    evaluate_at_point(c1_coeffs, DEEP_test_point),\n",
    ")\n",
    "DEEP_poly5_evals = DEEPquotient(\n",
    "    c2_zkcommitment,\n",
    "    zk_commitment_domain.domain,\n",
    "    DEEP_test_point,\n",
    "    evaluate_at_point(c2_coeffs, DEEP_test_point),\n",
    ")\n",
    "DEEP_poly6_evals = DEEPquotient(\n",
    "    c3_zkcommitment,\n",
    "    zk_commitment_domain.domain,\n",
    "    DEEP_test_point,\n",
    "    evaluate_at_point(c3_coeffs, DEEP_test_point),\n",
    ")\n",
    "DEEPValidity_evals = DEEPquotient(\n",
    "    validity_polynomial_evals,\n",
    "    zk_commitment_domain.domain,\n",
    "    DEEP_test_point,\n",
    "    evaluate_at_point(validity_polynomial_coeffs, DEEP_test_point),\n",
    ")\n",
    "\n",
    "# Hard-coding DEEP Polynomial evaluations for now\n",
    "DEEP_poly2_evals = [\n",
    "    19,\n",
    "    74,\n",
    "    82,\n",
    "    13,\n",
    "    48,\n",
    "    30,\n",
    "    17,\n",
    "    58,\n",
    "    93,\n",
    "    63,\n",
    "    64,\n",
    "    42,\n",
    "    45,\n",
    "    10,\n",
    "    21,\n",
    "    71,\n",
    "    1,\n",
    "    52,\n",
    "    72,\n",
    "    71,\n",
    "    60,\n",
    "    10,\n",
    "    8,\n",
    "    44,\n",
    "    41,\n",
    "    5,\n",
    "    14,\n",
    "    16,\n",
    "    49,\n",
    "    15,\n",
    "    78,\n",
    "    41,\n",
    "]\n",
    "\n",
    "# Hard-coding DEEP Polynomial evaluations for now\n",
    "DEEP_poly3_evals = [\n",
    "    84,\n",
    "    63,\n",
    "    89,\n",
    "    93,\n",
    "    75,\n",
    "    36,\n",
    "    11,\n",
    "    80,\n",
    "    44,\n",
    "    23,\n",
    "    40,\n",
    "    11,\n",
    "    80,\n",
    "    33,\n",
    "    38,\n",
    "    50,\n",
    "    72,\n",
    "    33,\n",
    "    35,\n",
    "    78,\n",
    "    8,\n",
    "    8,\n",
    "    86,\n",
    "    36,\n",
    "    9,\n",
    "    25,\n",
    "    88,\n",
    "    95,\n",
    "    65,\n",
    "    22,\n",
    "    50,\n",
    "    91,\n",
    "]\n",
    "\n",
    "print(\"Interpolation of DEEP Poly 1:\\n\", intt(DEEP_poly1_evals, _field_size))\n",
    "print(\"Interpolations of DEEP_poly2: \\n\", intt(DEEP_poly2_evals, _field_size))\n",
    "print(\"Interpolations of DEEP_poly3: \\n\", intt(DEEP_poly3_evals, _field_size))\n",
    "print(\"interpolation of DEEP poly 4: \\n\", intt(DEEP_poly4_evals, _field_size))\n",
    "print(\"interpolation of DEEP poly 5:\\n\", intt(DEEP_poly5_evals, _field_size))\n",
    "print(\"interpolation of DEEP poly 6:\\n\", intt(DEEP_poly6_evals, _field_size))\n",
    "print(\n",
    "    \"interpolation of DEEP Validity Polynomial:\\n\",\n",
    "    intt(DEEPValidity_evals, _field_size),\n",
    ")"
   ],
   "outputs": [
    {
     "name": "stdout",
     "output_type": "stream",
     "text": [
      "Interpolation of DEEP Poly 1:\n",
      " [7, 52, 70, 56, 29, 75, 52, 0, 0, 0, 0, 0, 0, 0, 0, 0, 0, 0, 0, 0, 0, 0, 0, 0, 0, 0, 0, 0, 0, 0, 0, 0]\n",
      "Interpolations of DEEP_poly2: \n",
      " [93, 39, 20, 48, 91, 19, 0, 0, 0, 0, 0, 0, 0, 0, 0, 0, 0, 0, 0, 0, 0, 0, 0, 0, 0, 0, 0, 0, 0, 0, 0, 0]\n",
      "Interpolations of DEEP_poly3: \n",
      " [91, 94, 50, 50, 34, 56, 0, 0, 0, 0, 0, 0, 0, 0, 0, 0, 0, 0, 0, 0, 0, 0, 0, 0, 0, 0, 0, 0, 0, 0, 0, 0]\n",
      "interpolation of DEEP poly 4: \n",
      " [58, 58, 95, 64, 82, 77, 1, 0, 0, 0, 0, 0, 0, 0, 0, 0, 0, 0, 0, 0, 0, 0, 0, 0, 0, 0, 0, 0, 0, 0, 0, 0]\n",
      "interpolation of DEEP poly 5:\n",
      " [4, 95, 29, 53, 87, 85, 39, 0, 0, 0, 0, 0, 0, 0, 0, 0, 0, 0, 0, 0, 0, 0, 0, 0, 0, 0, 0, 0, 0, 0, 0, 0]\n",
      "interpolation of DEEP poly 6:\n",
      " [89, 0, 96, 6, 73, 72, 50, 0, 0, 0, 0, 0, 0, 0, 0, 0, 0, 0, 0, 0, 0, 0, 0, 0, 0, 0, 0, 0, 0, 0, 0, 0]\n",
      "interpolation of DEEP Validity Polynomial:\n",
      " [0, 45, 4, 58, 82, 58, 0, 0, 0, 0, 0, 0, 0, 0, 0, 0, 0, 0, 0, 0, 0, 0, 0, 0, 0, 0, 0, 0, 0, 0, 0, 0]\n"
     ]
    }
   ],
   "execution_count": 79
  },
  {
   "cell_type": "markdown",
   "id": "11db7ff3-11f4-418a-ad4f-121cc39f16cc",
   "metadata": {},
   "source": [
    "# Lesson 10: Mixing (Batching) for FRI\n",
    "\n",
    "The initial FRI polynomial is the mix of the 7 DEEP polynomials."
   ]
  },
  {
   "cell_type": "code",
   "id": "f4356b6d-1100-4baa-af7e-09eae807ef5c",
   "metadata": {
    "ExecuteTime": {
     "end_time": "2024-10-20T16:55:41.147624Z",
     "start_time": "2024-10-20T16:55:41.142209Z"
    }
   },
   "source": [
    "fri_input = mix(\n",
    "    [\n",
    "        DEEP_poly1_evals,\n",
    "        DEEP_poly2_evals,\n",
    "        DEEP_poly3_evals,\n",
    "        DEEP_poly4_evals,\n",
    "        DEEP_poly5_evals,\n",
    "        DEEP_poly6_evals,\n",
    "        DEEPValidity_evals,\n",
    "    ],\n",
    "    21,\n",
    ")"
   ],
   "outputs": [],
   "execution_count": 80
  },
  {
   "metadata": {},
   "cell_type": "markdown",
   "source": "Interpolation of initial FRI Input",
   "id": "4129bded210f3cb5"
  },
  {
   "metadata": {
    "ExecuteTime": {
     "end_time": "2024-10-20T16:55:41.212394Z",
     "start_time": "2024-10-20T16:55:41.207001Z"
    }
   },
   "cell_type": "code",
   "source": [
    "print(intt(fri_input, _field_size))"
   ],
   "id": "bc65e6de34f421c3",
   "outputs": [
    {
     "name": "stdout",
     "output_type": "stream",
     "text": [
      "[19, 56, 34, 48, 43, 37, 10, 0, 0, 0, 0, 0, 0, 0, 0, 0, 0, 0, 0, 0, 0, 0, 0, 0, 0, 0, 0, 0, 0, 0, 0, 0]\n"
     ]
    }
   ],
   "execution_count": 81
  },
  {
   "metadata": {},
   "cell_type": "markdown",
   "source": "With the `batching` complete, we're ready for the FRI commit rounds.",
   "id": "fe2bb7ab2419f5b5"
  },
  {
   "cell_type": "markdown",
   "id": "ded474fc-d5f4-4d7a-a75d-ac96d5e62164",
   "metadata": {},
   "source": [
    "# Lesson 11: FRI Commit Rounds\n",
    "\n",
    "In this part of the protocol, the prover provides information to convince the verifier that the DEEP polynomials are low-degree.\n",
    "\n",
    "It follows that the Trace & Validity polynomials are also low-degree."
   ]
  },
  {
   "cell_type": "code",
   "id": "88e9f9d0-95a8-49b1-8f6f-d6623de05211",
   "metadata": {
    "ExecuteTime": {
     "end_time": "2024-10-20T16:55:41.336754Z",
     "start_time": "2024-10-20T16:55:41.302152Z"
    }
   },
   "source": [
    "mixingparameters_fri = np.array([1, 3, 22])\n",
    "num_rounds = 3\n",
    "assert num_rounds == len(mixingparameters_fri)\n",
    "\n",
    "# Run (num_rounds) rounds of FRI commit\n",
    "print(\"FRI Commit Phase\")\n",
    "final_fri_block = EvaluationDomain(\n",
    "    fri(\n",
    "        fri_input,\n",
    "        zk_commitment_domain,\n",
    "        mixingparameters_fri,\n",
    "        num_rounds,\n",
    "        num_rounds,\n",
    "    )\n",
    ").evaluation_domain_of_half_size.domain"
   ],
   "outputs": [
    {
     "name": "stdout",
     "output_type": "stream",
     "text": [
      "FRI Commit Phase\n",
      "\n",
      "--- begin round 1 ---\n",
      "D_super_( 0 ): [ 5 43 40 53 29 36 38 94 13 73  7  2 56 16 60 31 92 54 57 44 68 61 59  3\n",
      " 84 24 90 95 41 81 37 66]\n",
      "Split blocks: \n",
      " [47 77 77 28 72 30 12 83 41 57 91 85 13  9 90 74] \n",
      " [ 1 23 11  8 19 19 13 66 67 66 64 44 16 92 15 82]\n",
      "Now mix those blocks using the mix parameter 1\n",
      "FRI Commitment (aka f_super_( 1 ): [48  3 88 36 91 49 25 52 11 26 58 32 29  4  8 59]\n",
      "\n",
      "--- begin round 2 ---\n",
      "D_super_( 1 ): [np.int64(5), np.int64(40), np.int64(29), np.int64(38), np.int64(13), np.int64(7), np.int64(56), np.int64(60), np.int64(92), np.int64(57), np.int64(68), np.int64(59), np.int64(84), np.int64(90), np.int64(41), np.int64(37)]\n",
      "Split blocks: \n",
      " [32 29 31 62  9 12 10 76] \n",
      " [66 96 76 57  5 72 92 14]\n",
      "Now mix those blocks using the mix parameter 3\n",
      "FRI Commitment (aka f_super_( 2 ): [36 26 65 39 24 34 92 21]\n",
      "\n",
      "--- begin round 3 ---\n",
      "D_super_( 2 ): [np.int64(5), np.int64(29), np.int64(13), np.int64(56), np.int64(92), np.int64(68), np.int64(84), np.int64(41)]\n",
      "Split blocks: \n",
      " [30 30 30 30] \n",
      " [40 40 40 40]\n",
      "Now mix those blocks using the mix parameter 22\n",
      "FRI Commitment (aka f_super_( 3 ): [37 37 37 37]\n",
      "D_super_( 3 ): [np.int64(5), np.int64(13), np.int64(92), np.int64(84)]\n"
     ]
    }
   ],
   "execution_count": 82
  },
  {
   "metadata": {},
   "cell_type": "markdown",
   "source": [
    "The Prover sends this final FRI Commitment in full, rather than as a hash.\n",
    "\n",
    "The Verifier can confirm manually that the final FRI commitment is indeed a low-degree polynomial."
   ],
   "id": "e39b29ee1c667fd5"
  },
  {
   "cell_type": "markdown",
   "id": "3afe362d-ae65-4d53-8a60-417f64721624",
   "metadata": {},
   "source": [
    "# Lesson 12: FRI Query Phase\n",
    "\n",
    "The FRI Query phase confirms the correctness of the folding at each round of the FRI commit phase.\n",
    "In the Batched FRI protocol, the query phase also checks the correctness of the FRI batching.\n",
    "\n",
    "\"We only show a single query, and we only instantiate the check for the final round of FRI folding.\n",
    "Future improvements may extend this to include a more complete implementation of FRI queries.\n",
    "\n",
    "The notation here matches what's described on page 39 of Proximity Gaps for Reed-Solomon Codes.\n",
    "For a more complete description of the query phase, see https://eprint.iacr.org/2020/654\n",
    "\n",
    "## Specifying query location\n",
    "\n",
    "The verifier specifies a query `location g_super_(3)` from `D_super_(3)`\n"
   ]
  },
  {
   "cell_type": "code",
   "id": "319ca8d2-6856-4d6f-a4bb-bd7c6a0c475d",
   "metadata": {
    "ExecuteTime": {
     "end_time": "2024-10-20T16:55:41.368749Z",
     "start_time": "2024-10-20T16:55:41.364897Z"
    }
   },
   "source": [
    "g_super_3_index = 25\n",
    "g_super_3 = mod_pow(5, g_super_3_index)\n",
    "print(\"Choose g_super_(3) = 5^{} = {}.\\n\".format(g_super_3_index, g_super_3))"
   ],
   "outputs": [
    {
     "name": "stdout",
     "output_type": "stream",
     "text": [
      "Choose g_super_(3) = 5^25 = 13.\n",
      "\n"
     ]
    }
   ],
   "execution_count": 83
  },
  {
   "metadata": {},
   "cell_type": "markdown",
   "source": [
    "Now, the prover provides 2 evaluations from `f_super_(2)`. The verifier will use these evaluations to confirm the purported value of `f_super_(3)`. The details here are rather hairy:\n",
    "\n",
    "## Query location determines coset\n",
    "\n",
    "The choice of `g_super_3` determines a coset `C_super_2`.\n"
   ],
   "id": "4f904dd82ea5779d"
  },
  {
   "metadata": {
    "ExecuteTime": {
     "end_time": "2024-10-20T16:55:41.463072Z",
     "start_time": "2024-10-20T16:55:41.456456Z"
    }
   },
   "cell_type": "code",
   "source": [
    "print(\n",
    "    \"C_super_(2) = {{ g : g/5 is a square root of (g_super_3)/5 }} = {{ 5^{}, 5^{} }}\".format(\n",
    "        (g_super_3_index - 1) // 2 + 1,\n",
    "        (g_super_3_index - 1) // 2 + (_field_size + 1) // 2,\n",
    "    )\n",
    ")\n",
    "C_super_2 = EvaluationDomain(\n",
    "    [\n",
    "        mod_pow(5, ((g_super_3_index - 1) // 2 + 1)),\n",
    "        mod_pow(5, ((g_super_3_index - 1) // 2 + (_field_size + 1) // 2)),\n",
    "    ]\n",
    ")"
   ],
   "id": "e3e455cb1e846617",
   "outputs": [
    {
     "name": "stdout",
     "output_type": "stream",
     "text": [
      "C_super_(2) = { g : g/5 is a square root of (g_super_3)/5 } = { 5^13, 5^61 }\n"
     ]
    }
   ],
   "execution_count": 84
  },
  {
   "metadata": {},
   "cell_type": "markdown",
   "source": [
    "The prover provides the evaluations of `f_super_2` on each of the elements of `C_super_2`.\n",
    "\n",
    "The coset `C_super_2` determines a Vandermonde Matrix `M_super_2`."
   ],
   "id": "3032098f5974407e"
  },
  {
   "metadata": {
    "ExecuteTime": {
     "end_time": "2024-10-20T16:55:41.532094Z",
     "start_time": "2024-10-20T16:55:41.521740Z"
    }
   },
   "cell_type": "code",
   "source": [
    "M_super_2 = np.linalg.inv(_finite_field_array(C_super_2.as_vandermonde_matrix()))\n",
    "print(\"M_super_2 = inversevandermonde(C_super_2) = \\n\", M_super_2)\n",
    "\n",
    "# boldface_z_super_2 is the vector of powers of the mixing parameters\n",
    "boldface_z_super_2 = EvaluationDomain([1, mixingparameters_fri[2]])\n",
    "\n",
    "# Checking folding\n",
    "# See page 39 of Proximity Gaps for RS Codes\n",
    "expected = np.dot(\n",
    "    _finite_field_array(boldface_z_super_2.domain),\n",
    "    (M_super_2 @ _finite_field_array(final_fri_block)),\n",
    ")\n",
    "# Reject if f_super_3 evaluated @ g_super_(3) != expected"
   ],
   "id": "638f5cce3afd5182",
   "outputs": [
    {
     "name": "stdout",
     "output_type": "stream",
     "text": [
      "M_super_2 = inversevandermonde(C_super_2) = \n",
      " [[49 49]\n",
      " [92  5]]\n"
     ]
    }
   ],
   "execution_count": 85
  },
  {
   "cell_type": "markdown",
   "id": "6bdd7df1-6bf5-4ed4-8056-f222e89fb677",
   "metadata": {},
   "source": [
    "Now, the verifier can use the check shown in step (3) of `A single invocation of the batched QUERY phase.`\n",
    "\n",
    "Check the source code or page 39 of the ProxGaps paper to see a detailed description of this check.\n",
    "\n",
    "The verifier computes an `expected` value for f₃ evaluated at g₃ and checks the result against the purported value provided earlier.\n",
    "\n",
    "This check confirms the correctness of the folding from f₂ to f₃.\n",
    "\n",
    "A more complete demonstration of a FRI query would include an analogous check to confirm the correctness of each round of FRI folding, and a check to confirm the initial FRI batching.\n",
    "\n",
    "---\n",
    "\n",
    "**Congratulations!**  \n",
    "You've just run a (mostly) complete STARK protocol, including DEEP-ALI, FRI committing, and a FRI query.\n",
    "\n",
    "For a more visual & more verbose walk-through of this example, check out our STARK by Hand explainer:  \n",
    "[https://dev.risczero.com/proof-system/stark-by-hand](https://dev.risczero.com/proof-system/stark-by-hand)\n",
    "\n",
    "We also have videos at [https://dev.risczero.com/studyclub](https://dev.risczero.com/studyclub) that walk through a large portion of these ideas.\n",
    "\n",
    "We hope you find these resources useful -- happy learning!  \n",
    "Got questions/feedback? Find us on Discord: [https://discord.gg/risczero](https://discord.gg/risczero)"
   ]
  }
 ],
 "metadata": {
  "kernelspec": {
   "display_name": "Python 3 (ipykernel)",
   "language": "python",
   "name": "python3"
  },
  "language_info": {
   "codemirror_mode": {
    "name": "ipython",
    "version": 3
   },
   "file_extension": ".py",
   "mimetype": "text/x-python",
   "name": "python",
   "nbconvert_exporter": "python",
   "pygments_lexer": "ipython3",
   "version": "3.10.12"
  }
 },
 "nbformat": 4,
 "nbformat_minor": 5
}
