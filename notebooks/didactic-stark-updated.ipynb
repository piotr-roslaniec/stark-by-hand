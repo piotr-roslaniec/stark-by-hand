{
 "cells": [
  {
   "cell_type": "markdown",
   "id": "9a649e38097a6892",
   "metadata": {},
   "source": [
    "# A Didactic STARK\n",
    "\n",
    "This is a Python implementation of the STARK by Hand Explainer.\n",
    "https://dev.risczero.com/proof-system/stark-by-hand"
   ]
  },
  {
   "cell_type": "code",
   "id": "21664730-bc62-4536-9ac2-06973f51d9f0",
   "metadata": {
    "ExecuteTime": {
     "end_time": "2024-10-23T12:41:52.558670Z",
     "start_time": "2024-10-23T12:41:52.554894Z"
    }
   },
   "source": [
    "import random\n",
    "\n",
    "import galois\n",
    "import numpy as np\n",
    "from sympy import intt\n",
    "\n",
    "# We fix the random seed for reproducibility\n",
    "random.seed(1)"
   ],
   "outputs": [],
   "execution_count": 191
  },
  {
   "cell_type": "markdown",
   "id": "3bfd1c5aa027e96",
   "metadata": {},
   "source": [
    "## Security Warning\n",
    "\n",
    "The finite field arithmetic implemented in galois are not constant-time, but were instead designed for performance. As such, the library could be vulnerable to a side-channel timing attack. This library is not intended for production security, but instead for research & development, reverse engineering, cryptanalysis, experimentation, and general education.\n",
    "\n",
    "## Preliminaries\n",
    "\n",
    "We use galois to define `_finite_field_array`. This functions like a `numpy` array, except that the array consists of elements of the finite field of size `_field_size`."
   ]
  },
  {
   "cell_type": "code",
   "id": "ddf2c16960356f86",
   "metadata": {
    "ExecuteTime": {
     "end_time": "2024-10-23T12:41:52.622521Z",
     "start_time": "2024-10-23T12:41:52.606313Z"
    }
   },
   "source": [
    "_field_size = 97\n",
    "_finite_field_array = galois.GF(_field_size)\n",
    "_primitive_root = _finite_field_array.primitive_element\n",
    "_trace_length = 8\n",
    "_reed_solomon_expansion_factor = 4\n",
    "_block_length = _trace_length * _reed_solomon_expansion_factor\n",
    "_generator = _primitive_root ** ((_field_size - 1) // _block_length)\n",
    "\n",
    "\n",
    "# An EvaluationDomain is a collection of points on which to evaluate a polynomial\n",
    "class EvaluationDomain:\n",
    "    # Construct by directly providing the domain as an array\n",
    "    def __init__(self, array):\n",
    "        self.commitment = None  # Produced by evaluating a polynomial over self\n",
    "        self.size = len(array)\n",
    "        self.domain = array\n",
    "        if self.size > 1:\n",
    "            self.evaluation_domain_of_half_size = EvaluationDomain([self.domain[2 * i] for i in range(self.size // 2)])\n",
    "\n",
    "    # Alternate constructor\n",
    "    @classmethod\n",
    "    def from_shift_generator_size(self, shift, generator, size):\n",
    "        return EvaluationDomain(np.array([(shift * mod_pow(generator, i)) % _field_size for i in range(size)]))\n",
    "\n",
    "    # Method to construct evaluation matrix for the given domain\n",
    "    def as_vandermonde_matrix(self):\n",
    "        self.evaluationmatrix = np.array(\n",
    "            [[mod_pow(self.domain[j], i) for i in range(self.size)] for j in range(self.size)]\n",
    "        )\n",
    "        return self.evaluationmatrix\n",
    "\n",
    "    # Method to evaluate a given polynomial in a coefficient form over the given domain\n",
    "    def evaluate(self, coeffs):\n",
    "        self.commitment = self.as_vandermonde_matrix() @ extendarray(coeffs, self.size) % _field_size\n",
    "        return self.commitment\n",
    "\n",
    "\n",
    "# A function that performs modular exponentiation\n",
    "\n",
    "\n",
    "def mod_pow(base, exp):\n",
    "    return pow(int(base), exp, _field_size)\n",
    "\n",
    "\n",
    "# A function that returns the reciprocal modulo _field_size\n",
    "def field_reciprocal(x):\n",
    "    # By Fermat's Little Theorem, x^95 is the reciprocal of x (for non-zero x).\n",
    "    x = _finite_field_array(x % _field_size)\n",
    "    xinv = _finite_field_array(1) / x\n",
    "    return xinv\n",
    "\n",
    "\n",
    "# A function that returns an element-wise reciprocal of an array, modulo _field_size\n",
    "def reciprocal_elementwise(array):\n",
    "    return [field_reciprocal(x) for x in array]\n",
    "\n",
    "\n",
    "# A function for extending a short array to a specified length:\n",
    "def extendarray(short_array, length):\n",
    "    size = len(short_array)\n",
    "    # Validating short array is not too big:\n",
    "    assert size <= length\n",
    "    long_array = [0] * length\n",
    "    # Write short_array contents into beginning of long_array:\n",
    "    long_array[:size] = short_array[:size]\n",
    "    return long_array\n",
    "\n",
    "\n",
    "# A function that evaluates a polynomial at a given input\n",
    "def evaluate_at_point(coeffs, x):\n",
    "    # We evaluate f(x) as the dot product of [coefficients] and [powers]=[1, x, x^2, ...]\n",
    "    powers = np.array([mod_pow(x, i) for i in range(len(coeffs))])\n",
    "    eval = np.dot(coeffs, powers)\n",
    "    return eval\n",
    "\n",
    "\n",
    "# Define mix function for inside FRI\n",
    "def mix(array, parameter):\n",
    "    mixed_array = np.array([0] * len(array[0]))\n",
    "    for i in range(len(array)):\n",
    "        assert len(array[i]) == len(array[0])\n",
    "        mixed_array = (mixed_array + (np.array(array[i]) * mod_pow(parameter, i))) % _field_size\n",
    "    return mixed_array\n",
    "\n",
    "\n",
    "# Define quotient function for DEEP\n",
    "def DEEPquotient(block, domain, testpoint, eval_testpoint):\n",
    "    eval_quotient = (block - eval_testpoint) * reciprocal_elementwise(domain - testpoint) % _field_size\n",
    "    return eval_quotient\n",
    "\n",
    "\n",
    "# Define a function that splits a block into 2 blocks of half the length\n",
    "def split(block, large_domain):\n",
    "    small_domain = large_domain.evaluation_domain_of_half_size\n",
    "    # Re-write block as a galois array\n",
    "    block = _finite_field_array(block)\n",
    "    evalmatrix_inv = np.linalg.inv(_finite_field_array(large_domain.as_vandermonde_matrix()))\n",
    "\n",
    "    # Given a block u, we construct smaller blocks v_0, v_1\n",
    "\n",
    "    # The defining relationship between u and v_i is easy to state in coefficient representation:\n",
    "    #   Writing u_bar as the coefficient form of u, and v_bar_i as the coefficient form of v_i, we write:\n",
    "    #   u_bar(x) = v_bar_0(x^2) + (x * v_bar_1(x^2))\n",
    "    # We compute the coefficients of v_bar_0 and v_bar_1 through the following matrix multiplication:\n",
    "    # _finite_field_array is the finite field of order _field_size:\n",
    "\n",
    "    # Computing coefficient form of input:\n",
    "    u_bar = evalmatrix_inv @ block\n",
    "\n",
    "    # Writing coefficients of output polynomials:\n",
    "    v_bar_0 = extendarray([u_bar[2 * i] for i in range(len(u_bar) // 2)], len(small_domain.domain))\n",
    "    v_bar_1 = extendarray([u_bar[1 + 2 * i] for i in range(len(u_bar) // 2)], len(small_domain.domain))\n",
    "\n",
    "    # Computing output blocks\n",
    "    v_0 = small_domain.evaluate(v_bar_0)\n",
    "    v_1 = small_domain.evaluate(v_bar_1)\n",
    "\n",
    "    # TODO(https://github.com/risc0/risc0/issues/979): Test and enable once verifier evaluation works\n",
    "    # Instead of performing the matrix inversion and multiplication,\n",
    "    # we directly split the evaluations into two blocks (even and odd indices)\n",
    "    # v_0 = block[::2]  # even indices\n",
    "    # v_1 = block[1::2]  # odd indices\n",
    "    # v_0_evaluated = small_domain.evaluate(v_0)\n",
    "    # v_1_evaluated = small_domain.evaluate(v_1)\n",
    "    # return [v_0_evaluated, v_1_evaluated]\n",
    "\n",
    "    return [v_0, v_1]\n",
    "\n",
    "\n",
    "def fri(block, input_domain, mixing_parameters, total_rounds, rounds_remaining):\n",
    "    while rounds_remaining > 0:\n",
    "        print(\"\\n--- begin round\", total_rounds - rounds_remaining + 1, \"---\")\n",
    "        print(\"D_super_(\", total_rounds - rounds_remaining, \"):\", input_domain.domain)\n",
    "        split0, split1 = split(block, input_domain)\n",
    "        next_domain = input_domain.evaluation_domain_of_half_size\n",
    "        print(\"Split blocks: \\n\", split0, \"\\n\", split1)\n",
    "        print(\"Now mix those blocks using the mix parameter\", mixing_parameters[0])\n",
    "        round_commitment = mix([split0, split1], mixing_parameters[0])\n",
    "        print(\n",
    "            \"FRI Commitment (aka f_super_(\",\n",
    "            total_rounds - rounds_remaining + 1,\n",
    "            \"):\",\n",
    "            round_commitment,\n",
    "        )\n",
    "        return fri(\n",
    "            round_commitment,\n",
    "            next_domain,\n",
    "            mixing_parameters[1:],\n",
    "            total_rounds,\n",
    "            rounds_remaining - 1,\n",
    "        )\n",
    "    if rounds_remaining == 0:\n",
    "        print(\"D_super_(\", total_rounds - rounds_remaining, \"):\", input_domain.domain)\n",
    "        return block"
   ],
   "outputs": [],
   "execution_count": 192
  },
  {
   "cell_type": "markdown",
   "id": "99d25134-c7b4-4848-87a3-87a16646f91c",
   "metadata": {},
   "source": [
    "# Lesson 1-3 : the Padded Execution Trace\n",
    "\n",
    "In these lessons, we are proving computational integrity of a Fibonacci program mod `_field_size`.\n",
    "\n",
    "We claim that the following trace is a valid instantiation of this algorithm. The trace is organized into 6 columns, which are split into two types: **Data** & **Control**.\n",
    "\n",
    "For each row (in every column) we also append a random padding to the end of the execution trace, which adds the entropy to hide the user data.\n",
    "\n",
    "## Trace: Data Columns\n",
    "\n",
    "In this trace, we place intermediate computation steps for the Fibonacci program execution.\n",
    "\n",
    "- We input `24` and `30` into a simple Fibonacci program. The inputs are loaded into `d1_trace[0]` and `d2_trace[0]`.\n",
    "- We compute 4 rounds of Fibonacci addition. At each round, we compute:  `d3_trace[i] = d1_trace[i] + d2_trace[i]`\n",
    "- After 4 rounds, `d3_trace[3]` contains the output of the computation."
   ]
  },
  {
   "metadata": {
    "ExecuteTime": {
     "end_time": "2024-10-23T12:41:52.676909Z",
     "start_time": "2024-10-23T12:41:52.669989Z"
    }
   },
   "cell_type": "code",
   "source": [
    "rounds = 4\n",
    "\n",
    "d1 = [24]\n",
    "d2 = [30]\n",
    "d3 = []\n",
    "for i in range(rounds):\n",
    "    d3.append((d1[i] + d2[i]) % _field_size)\n",
    "    print(f\"Round {i}: {d3[i]} = ({d1[i]} + {d2[i]}) % {_field_size}\")\n",
    "    if i < rounds - 1:\n",
    "        # We don't need to append these traces in the last round\n",
    "        d1.append(d2[i])\n",
    "        d2.append(d3[i])\n",
    "\n",
    "print(\"d1:\", d1)\n",
    "print(\"d2:\", d2)\n",
    "print(\"d3:\", d3)"
   ],
   "id": "3d53e9962b9b9332",
   "outputs": [
    {
     "name": "stdout",
     "output_type": "stream",
     "text": [
      "Round 0: 54 = (24 + 30) % 97\n",
      "Round 1: 84 = (30 + 54) % 97\n",
      "Round 2: 41 = (54 + 84) % 97\n",
      "Round 3: 28 = (84 + 41) % 97\n",
      "d1: [24, 30, 54, 84]\n",
      "d2: [30, 54, 84, 41]\n",
      "d3: [54, 84, 41, 28]\n"
     ]
    }
   ],
   "execution_count": 193
  },
  {
   "metadata": {},
   "cell_type": "markdown",
   "source": "We append a random padding to te end of the execution trace:",
   "id": "79765839073c854b"
  },
  {
   "cell_type": "code",
   "id": "8a05ad1c-1735-4106-89b3-ad0befc6a57a",
   "metadata": {
    "ExecuteTime": {
     "end_time": "2024-10-23T12:41:52.743451Z",
     "start_time": "2024-10-23T12:41:52.737924Z"
    }
   },
   "source": [
    "for _ in range(rounds):\n",
    "    d1.append(random.randint(0, _field_size - 1))\n",
    "    d2.append(random.randint(0, _field_size - 1))\n",
    "    d3.append(random.randint(0, _field_size - 1))\n",
    "\n",
    "d1_trace = np.array(d1)\n",
    "d2_trace = np.array(d2)\n",
    "d3_trace = np.array(d3)\n",
    "\n",
    "print(f\"(Padded) Trace Data Columns\\n{d1_trace}\\n{d2_trace}\\n{d3_trace}\")"
   ],
   "outputs": [
    {
     "name": "stdout",
     "output_type": "stream",
     "text": [
      "(Padded) Trace Data Columns\n",
      "[24 30 54 84 17 32 57 48]\n",
      "[30 54 84 41 72 15 60 26]\n",
      "[54 84 41 28  8 63 83 12]\n"
     ]
    }
   ],
   "execution_count": 194
  },
  {
   "cell_type": "markdown",
   "id": "4e97f031-d31a-4593-9ae2-8f26d2a94ad7",
   "metadata": {},
   "source": [
    "## Trace: Control Columns\n",
    "\n",
    "Initial steps\n",
    "\n",
    "- Initialization steps are flagged in `c1_trace`\n",
    "- Computation steps are flagged in `c2_trace`\n",
    "- Termination step is flagged in `c3_trace`\n",
    "- 0s at the end of each control column correspond to the padding of the trace"
   ]
  },
  {
   "cell_type": "code",
   "id": "fb0657c0-62bf-4729-9caf-826a4b6ca406",
   "metadata": {
    "ExecuteTime": {
     "end_time": "2024-10-23T12:41:52.833897Z",
     "start_time": "2024-10-23T12:41:52.823812Z"
    }
   },
   "source": [
    "c1 = [1, 0, 0, 0]\n",
    "c2 = [0, 1, 1, 1]\n",
    "c3 = [0, 0, 0, 1]\n",
    "\n",
    "for _ in range(rounds):\n",
    "    # TODO: Why is it zero and not random?\n",
    "    c1.append(0)\n",
    "    c2.append(0)\n",
    "    c3.append(0)\n",
    "    # c1.append(random.randint(0, _field_size - 1))\n",
    "    # c2.append(random.randint(0, _field_size - 1))\n",
    "    # c3.append(random.randint(0, _field_size - 1))\n",
    "\n",
    "c1_trace = np.array(c1)\n",
    "c2_trace = np.array(c2)\n",
    "c3_trace = np.array(c3)\n",
    "\n",
    "print(\"(Padded) Trace Control Columns:\\n\", c1_trace, \"\\n\", c2_trace, \"\\n\", c3_trace)"
   ],
   "outputs": [
    {
     "name": "stdout",
     "output_type": "stream",
     "text": [
      "(Padded) Trace Control Columns:\n",
      " [1 0 0 0 0 0 0 0] \n",
      " [0 1 1 1 0 0 0 0] \n",
      " [0 0 0 1 0 0 0 0]\n"
     ]
    }
   ],
   "execution_count": 195
  },
  {
   "cell_type": "markdown",
   "id": "ca3ac539-3f4b-461a-b150-e1f26de568ae",
   "metadata": {},
   "source": [
    "Now, putting those two together, we will construct a zero-knowledge proof such that:\n",
    "\n",
    "This trace represents a program that satisfies these 6 rules:\n",
    "1) Fibonacci words here\n",
    "2) `d1_trace[0] == 24`  (init 1 constraint)\n",
    "3) `d2_trace[0] == 30`  (init 2 constraint)\n",
    "4) `d3_trace[3] == 28`  (termination constraint)\n",
    "5) `if c2_trace[i] == 1`, then `d2_trace[i] == d1_trace[i+1]`\n",
    "6) `if c2_trace[i] == 1`, then `d3_trace[i] == d2_trace[i+1]`"
   ]
  },
  {
   "metadata": {
    "ExecuteTime": {
     "end_time": "2024-10-23T12:41:52.892701Z",
     "start_time": "2024-10-23T12:41:52.888303Z"
    }
   },
   "cell_type": "code",
   "source": [
    "trace_data = [d1_trace, d2_trace, d3_trace, c1_trace, c2_trace, c3_trace]\n",
    "print(\"Trace Data \\n\")\n",
    "for col in trace_data:\n",
    "    print(col)"
   ],
   "id": "f6b598c346ecfcad",
   "outputs": [
    {
     "name": "stdout",
     "output_type": "stream",
     "text": [
      "Trace Data \n",
      "\n",
      "[24 30 54 84 17 32 57 48]\n",
      "[30 54 84 41 72 15 60 26]\n",
      "[54 84 41 28  8 63 83 12]\n",
      "[1 0 0 0 0 0 0 0]\n",
      "[0 1 1 1 0 0 0 0]\n",
      "[0 0 0 1 0 0 0 0]\n"
     ]
    }
   ],
   "execution_count": 196
  },
  {
   "cell_type": "markdown",
   "id": "898e5cd0-c5e2-4ded-8dcb-2c4ca16d8b61",
   "metadata": {},
   "source": [
    "# Lesson 4: Constructing Trace Polynomials\n",
    "\n",
    "In this lesson, we construct a trace polynomials using Reed-Solomon encoding.\n",
    "\n",
    "## Trace Polynomials\n",
    "\n",
    "We run an iNTT on each trace column to construct the associated trace polynomial. The resulting polynomials have at most degree 7 (length of the column minus 1)."
   ]
  },
  {
   "cell_type": "code",
   "id": "3e13438a-7254-48e1-9420-89c3cccfce72",
   "metadata": {
    "ExecuteTime": {
     "end_time": "2024-10-23T12:41:52.951400Z",
     "start_time": "2024-10-23T12:41:52.946032Z"
    }
   },
   "source": [
    "d1_coeffs = np.array(intt(d1_trace, prime=_field_size))\n",
    "d2_coeffs = np.array(intt(d2_trace, prime=_field_size))\n",
    "d3_coeffs = np.array(intt(d3_trace, prime=_field_size))\n",
    "c1_coeffs = np.array(intt(c1_trace, prime=_field_size))\n",
    "c2_coeffs = np.array(intt(c2_trace, prime=_field_size))\n",
    "c3_coeffs = np.array(intt(c3_trace, prime=_field_size))\n",
    "print(\n",
    "    \"Coefficients of Trace Polynomials 1, 2, ..., 6:\\n\",\n",
    "    d1_coeffs,\n",
    "    \"\\n\",\n",
    "    d2_coeffs,\n",
    "    \"\\n\",\n",
    "    d3_coeffs,\n",
    "    \"\\n\",\n",
    "    c1_coeffs,\n",
    "    \"\\n\",\n",
    "    c2_coeffs,\n",
    "    \"\\n\",\n",
    "    c3_coeffs,\n",
    ")"
   ],
   "outputs": [
    {
     "name": "stdout",
     "output_type": "stream",
     "text": [
      "Coefficients of Trace Polynomials 1, 2, ..., 6:\n",
      " [19 61 14 14 19 30 17 44] \n",
      " [72 50 62 43 38 50 73 30] \n",
      " [83 56 86 83 12 41 44 37] \n",
      " [85 85 85 85 85 85 85 85] \n",
      " [61 80 12 37 12 60 12 17] \n",
      " [85 89 27 18 12  8 70 79]\n"
     ]
    }
   ],
   "execution_count": 197
  },
  {
   "cell_type": "markdown",
   "id": "191746f4-b83d-4931-91d5-41900c3ccaf6",
   "metadata": {},
   "source": [
    "# Evaluating Trace Polynomials\n",
    "\n",
    "Evaluating Trace Polynomials over the powers of 5^12 would return the original trace data:"
   ]
  },
  {
   "metadata": {
    "ExecuteTime": {
     "end_time": "2024-10-23T12:41:53.008733Z",
     "start_time": "2024-10-23T12:41:53.004027Z"
    }
   },
   "cell_type": "code",
   "source": [
    "recovery_domain = EvaluationDomain.from_shift_generator_size(1, 5**12, len(d1_trace))\n",
    "\n",
    "\n",
    "def recovers_original_data(trace, coeffs):\n",
    "    return np.all([original == new for (original, new) in zip(trace, recovery_domain.evaluate(coeffs))])\n",
    "\n",
    "\n",
    "assert recovers_original_data(d1_trace, d1_coeffs)\n",
    "assert recovers_original_data(d2_trace, d2_coeffs)\n",
    "assert recovers_original_data(d3_trace, d3_coeffs)\n",
    "assert recovers_original_data(c1_trace, c1_coeffs)\n",
    "assert recovers_original_data(c2_trace, c2_coeffs)\n",
    "assert recovers_original_data(c3_trace, c3_coeffs)"
   ],
   "id": "134468f537d88fe7",
   "outputs": [],
   "execution_count": 198
  },
  {
   "metadata": {},
   "cell_type": "markdown",
   "source": "Evaluating Trace Polynomials over the \"expanded domain\" gives a \"trace block\":",
   "id": "189191e2fcbdd8a8"
  },
  {
   "metadata": {
    "ExecuteTime": {
     "end_time": "2024-10-23T12:41:53.067526Z",
     "start_time": "2024-10-23T12:41:53.055699Z"
    }
   },
   "cell_type": "code",
   "source": [
    "expanded_domain = EvaluationDomain.from_shift_generator_size(1, 5**3, 32)\n",
    "d1_rs_expansion = expanded_domain.evaluate(d1_coeffs)\n",
    "d2_rs_expansion = expanded_domain.evaluate(d2_coeffs)\n",
    "d3_rs_expansion = expanded_domain.evaluate(d3_coeffs)\n",
    "c1_rs_expansion = expanded_domain.evaluate(c1_coeffs)\n",
    "c2_rs_expansion = expanded_domain.evaluate(c2_coeffs)\n",
    "c3_rs_expansion = expanded_domain.evaluate(c3_coeffs)\n",
    "print(\n",
    "    f\"Reed Solomon Expansion of Trace Blocks:\\n\",\n",
    "    d1_rs_expansion,\n",
    "    \"\\n\",\n",
    "    d2_rs_expansion,\n",
    "    \"\\n\",\n",
    "    d3_rs_expansion,\n",
    "    \"\\n\",\n",
    "    c1_rs_expansion,\n",
    "    \"\\n\",\n",
    "    c2_rs_expansion,\n",
    "    \"\\n\",\n",
    "    c3_rs_expansion,\n",
    ")"
   ],
   "id": "c1eb4b684fc9f878",
   "outputs": [
    {
     "name": "stdout",
     "output_type": "stream",
     "text": [
      "Reed Solomon Expansion of Trace Blocks:\n",
      " [24 69 30 30 30 46 26 33 54 53 22 80 84 16 37 71 17 51 68 64 32 43 36 60\n",
      " 57 14 76 16 48 54 51 89] \n",
      " [30 49 41  7 54 53 84 37 84  6 44  1 41 29 58 55 72 96 36  6 15 70 61 17\n",
      " 60 68 19 17 26 11 39 48] \n",
      " [54 74 67 23 84 65 29 23 41 88 40 19 28 54 74  5  8 45 30 45 63 39 67  5\n",
      " 83 93 87 26 12 12 76 33] \n",
      " [ 1 23 45 53  0 72 83 70  0 10 60 25  0 53 11 68  0  2 62 13  0 26 13 86\n",
      "  0 46 87 80  0 60 28 91] \n",
      " [ 0 35 31 63  1 32 63 30  1 58 59 20  1  8 91 51  0 38 57 66  0 65 36  9\n",
      "  0 81 86 70  0 74 65 82] \n",
      " [ 0 26 13 86  0 46 87 80  0 60 28 91  1 23 45 53  0 72 83 70  0 10 60 25\n",
      "  0 53 11 68  0  2 62 13]\n"
     ]
    }
   ],
   "execution_count": 199
  },
  {
   "metadata": {},
   "cell_type": "markdown",
   "source": "Note that every 4th entry matches the original trace data:",
   "id": "73af2a64e3d1bb6e"
  },
  {
   "metadata": {
    "ExecuteTime": {
     "end_time": "2024-10-23T12:41:53.137531Z",
     "start_time": "2024-10-23T12:41:53.133164Z"
    }
   },
   "cell_type": "code",
   "source": [
    "def check_trace_matches(traces, rs_expansions):\n",
    "    matches = []\n",
    "    for trace, rs_expansion in zip(traces, rs_expansions):\n",
    "        for i in range(len(trace)):\n",
    "            matches.append(trace[i] == rs_expansion[i * 4])\n",
    "    return matches\n",
    "\n",
    "\n",
    "is_matches = check_trace_matches(\n",
    "    [d1_trace, d2_trace, d3_trace, c1_trace, c2_trace, c3_trace],\n",
    "    [d1_rs_expansion, d2_rs_expansion, d3_rs_expansion, c1_rs_expansion, c2_rs_expansion, c3_rs_expansion],\n",
    ")\n",
    "assert np.all(is_matches)"
   ],
   "id": "4feed9af76ab68b2",
   "outputs": [],
   "execution_count": 200
  },
  {
   "metadata": {},
   "cell_type": "markdown",
   "source": "This is a degree 4 Reed-Solomon expansion of the original trace:",
   "id": "493482dae5ddcccd"
  },
  {
   "metadata": {
    "ExecuteTime": {
     "end_time": "2024-10-23T12:41:53.184572Z",
     "start_time": "2024-10-23T12:41:53.181502Z"
    }
   },
   "cell_type": "code",
   "source": [
    "trace_rs_expansion = np.array(\n",
    "    [\n",
    "        d1_rs_expansion,\n",
    "        d2_rs_expansion,\n",
    "        d3_rs_expansion,\n",
    "        c1_rs_expansion,\n",
    "        c2_rs_expansion,\n",
    "        c3_rs_expansion,\n",
    "    ]\n",
    ")"
   ],
   "id": "71f3583c8a1d7215",
   "outputs": [],
   "execution_count": 201
  },
  {
   "metadata": {},
   "cell_type": "markdown",
   "source": [
    "# Lesson 5: ZK Commitments of the Trace Data\n",
    "\n",
    "To maintain a zero-knowledge protocol, the trace polynomials are evaluated over a \"zk commitment domain\", {5^1, 5^4, ..., 5^94}.\n",
    "\n",
    "Evaluating Trace Polynomials over the zk commitment domain gives \"zero-knowledge trace blocks.\""
   ],
   "id": "8710eeb7a51592e0"
  },
  {
   "metadata": {
    "ExecuteTime": {
     "end_time": "2024-10-23T12:41:53.242080Z",
     "start_time": "2024-10-23T12:41:53.230157Z"
    }
   },
   "cell_type": "code",
   "source": [
    "zk_commitment_domain = EvaluationDomain.from_shift_generator_size(5, 5**3, 32)\n",
    "d1_zk_commitment = zk_commitment_domain.evaluate(d1_coeffs)\n",
    "d2_zk_commitment = zk_commitment_domain.evaluate(d2_coeffs)\n",
    "d3_zk_commitment = zk_commitment_domain.evaluate(d3_coeffs)\n",
    "c1_zk_commitment = zk_commitment_domain.evaluate(c1_coeffs)\n",
    "c2_zk_commitment = zk_commitment_domain.evaluate(c2_coeffs)\n",
    "c3_zk_commitment = zk_commitment_domain.evaluate(c3_coeffs)\n",
    "print(\n",
    "    \"Zero-Knowledge Trace Blocks:\\n\",\n",
    "    d1_zk_commitment,\n",
    "    \"\\n\",\n",
    "    d2_zk_commitment,\n",
    "    \"\\n\",\n",
    "    d3_zk_commitment,\n",
    "    \"\\n\",\n",
    "    c1_zk_commitment,\n",
    "    \"\\n\",\n",
    "    c2_zk_commitment,\n",
    "    \"\\n\",\n",
    "    c3_zk_commitment,\n",
    ")"
   ],
   "id": "ee4b4efc4bae61df",
   "outputs": [
    {
     "name": "stdout",
     "output_type": "stream",
     "text": [
      "Zero-Knowledge Trace Blocks:\n",
      " [44 12 60 87 70 36  7 14 57 49 30 48 11 73 25 71 78 79 42 17 87 36  1 10\n",
      " 61 53 60 73 35  8 24 26] \n",
      " [75 28 40 65 21 94 14 67 19 83 69 38  7 64 58 33 39 18 67 88 74 54 70  2\n",
      " 95  5 53  7 52 36 11 82] \n",
      " [92 34 18  3  4 73 42 75 39 56 36 74 12 40 42 48 96 84 57 47 60  2 20 29\n",
      " 35 43 39  6 35 41 22 91] \n",
      " [82 18 32 68 81 41 18 86 92 59 14 44 43 31  8 92 10 71 50 89  2 32 65 22\n",
      " 32 16 38 50 47 24 67 35] \n",
      " [81 72 73 10 64 58 40 56 16 83 20 92 61 21 64  4 22 34 40 28 48 64 72 31\n",
      " 55 37 26  9 44 22 56 64] \n",
      " [ 2 32 65 22 32 16 38 50 47 24 67 35 82 18 32 68 81 41 18 86 92 59 14 44\n",
      " 43 31  8 92 10 71 50 89]\n"
     ]
    }
   ],
   "execution_count": 202
  },
  {
   "metadata": {},
   "cell_type": "markdown",
   "source": "These zk-commitment blocks do not share any evaluation points with the original trace data:\n",
   "id": "f191b79a00ca81fa"
  },
  {
   "metadata": {
    "ExecuteTime": {
     "end_time": "2024-10-23T12:41:53.297253Z",
     "start_time": "2024-10-23T12:41:53.294097Z"
    }
   },
   "cell_type": "code",
   "source": [
    "is_matches = check_trace_matches(\n",
    "    [d1_trace, d2_trace, d3_trace, c1_trace, c2_trace, c3_trace],\n",
    "    [d1_zk_commitment, d2_zk_commitment, d3_zk_commitment, c1_zk_commitment, c2_zk_commitment, c3_zk_commitment],\n",
    ")\n",
    "assert not np.any(is_matches)"
   ],
   "id": "7416b36ad9edcca",
   "outputs": [],
   "execution_count": 203
  },
  {
   "metadata": {},
   "cell_type": "markdown",
   "source": "These evaluations are then committed to Merkle Trees (one for the data blocks and one for the control blocks). The term \"polynomial commitment\" describes this process of a Merkle commitment where the leaves of the tree are evaluations of a polynomial. The root of these two Merkle Trees are the first entries on the RISC Zero seal. The third entry on the RISC Zero seal is an `Accum` commitment; that commitment is not necessary in this simplified example.",
   "id": "c2080898894693c1"
  },
  {
   "metadata": {
    "ExecuteTime": {
     "end_time": "2024-10-23T12:41:53.343251Z",
     "start_time": "2024-10-23T12:41:53.340523Z"
    }
   },
   "cell_type": "code",
   "source": [
    "trace_zk_commitment = np.array(\n",
    "    [\n",
    "        d1_zk_commitment,\n",
    "        d2_zk_commitment,\n",
    "        d3_zk_commitment,\n",
    "        c1_zk_commitment,\n",
    "        c2_zk_commitment,\n",
    "        c3_zk_commitment,\n",
    "    ]\n",
    ")"
   ],
   "id": "e8fcff2519e50d80",
   "outputs": [],
   "execution_count": 204
  },
  {
   "metadata": {},
   "cell_type": "markdown",
   "source": [
    "# Lesson 6: Constraint Polynomials\n",
    "\n",
    "The constraints are used to check the correctness of the trace. In this example, we check 6 rules to establish the validity of the trace.\n",
    "\n",
    "Applying rule checks to trace blocks creates constraint blocks. A constraint block has 0s in every 4th row - These 0s indicate the passing of the various rule-checks.\n",
    "\n",
    "Applying rule checks to zk-commitment trace blocks makes zk-commitment constraint blocks. Similarly, applying rule checks to trace polynomials makes constraint polynomials. In code, this happens in terms of trace blocks."
   ],
   "id": "12257108a31181ff"
  },
  {
   "metadata": {
    "ExecuteTime": {
     "end_time": "2024-10-23T12:41:53.391594Z",
     "start_time": "2024-10-23T12:41:53.386971Z"
    }
   },
   "cell_type": "code",
   "source": [
    "def fib_constraint(trace):\n",
    "    # trace[2] - trace[1] - trace[0] returns 0 when the fibonacci addition relation holds.\n",
    "    # trace[3] + trace[4] + trace[5] returns 0 when we aren't enforcing this rule.\n",
    "    # The product of these two terms returns 0 at each row of the original trace.\n",
    "    constraint = np.multiply((trace[2] - trace[1] - trace[0]), trace[3] + trace[4] + trace[5]) % _field_size\n",
    "    return constraint\n",
    "\n",
    "\n",
    "fib_constraint_columns = fib_constraint(trace_data)\n",
    "fib_constraint_rs_expansion = fib_constraint(trace_rs_expansion)\n",
    "fib_constraint_zk_commitment = fib_constraint(trace_zk_commitment)\n",
    "\n",
    "print(\n",
    "    \"Applied to the original trace data, the constraint yields all 0s: \\n\",\n",
    "    fib_constraint_columns,\n",
    ")\n",
    "print(\n",
    "    \"Applied to the Reed-Solomon expanded trace blocks, the constraint yields 0s in every 4th row: \\n\",\n",
    "    fib_constraint_rs_expansion,\n",
    ")"
   ],
   "id": "98796aa46e555a58",
   "outputs": [
    {
     "name": "stdout",
     "output_type": "stream",
     "text": [
      "Applied to the original trace data, the constraint yields all 0s: \n",
      " [0 0 0 0 0 0 0 0]\n",
      "Applied to the Reed-Solomon expanded trace blocks, the constraint yields 0s in every 4th row: \n",
      " [ 0 87 32 82  0 41 42 76  0 26 58  7  0 77 17 43  0 22 87 58  0 92 28 90\n",
      "  0 40 80 26  0 67 61 56]\n"
     ]
    }
   ],
   "execution_count": 205
  },
  {
   "metadata": {},
   "cell_type": "markdown",
   "source": [
    "In practice, we apply these rule-checks to the trace blocks (i.e., the evaluations of the trace polynomials over the zk-commitment domain).\n",
    "\n",
    "Although the zeros are no longer apparent, this block still corresponds to the evaluation of a polynomial whose degree is bounded by $2l$ where $l$ is the length of the trace.\n",
    "\n",
    "The 6 constraint blocks and the associated polynomials, along with the coefficients of the associated polynomials, are shown below:"
   ],
   "id": "d2ece29309e5b6d0"
  },
  {
   "metadata": {
    "ExecuteTime": {
     "end_time": "2024-10-23T12:41:53.454925Z",
     "start_time": "2024-10-23T12:41:53.443795Z"
    }
   },
   "cell_type": "code",
   "source": [
    "# Constraint the first Fibonacci input\n",
    "def init1_constraint(trace):\n",
    "    # trace[0] - 24 returns 0 when the value loaded into the program matches the asserted input of 24\n",
    "    # trace[3] returns 0 when we aren't enforcing this rule.\n",
    "    # The product of these two terms returns 0 at each row of the original trace.\n",
    "    constraint = np.multiply(trace[0] - 24, trace[3]) % _field_size\n",
    "    return constraint\n",
    "\n",
    "\n",
    "init1_constraint_columns = init1_constraint(trace_data)\n",
    "init1_constraint_rs_expansion = init1_constraint(trace_rs_expansion)\n",
    "init1_constraint_zk_commitment = init1_constraint(trace_zk_commitment)\n",
    "\n",
    "\n",
    "# Constraint the second Fibonacci input\n",
    "def init2_constraint(trace):\n",
    "    # trace[1] - 30 returns 0 when the value loaded into the program matches the asserted input of 30\n",
    "    # trace[3] returns 0 when we aren't enforcing this rule.\n",
    "    # The product of these two terms returns 0 at each row of the original trace.\n",
    "    constraint = np.multiply(trace[1] - 30, trace[3]) % _field_size\n",
    "    return constraint\n",
    "\n",
    "\n",
    "init2_constraint_columns = init2_constraint(trace_data)\n",
    "init2_constraint_rs_expansion = init2_constraint(trace_rs_expansion)\n",
    "init2_constraint_zk_commitment = init2_constraint(trace_zk_commitment)\n",
    "\n",
    "\n",
    "# Constraint the Fibonacci output\n",
    "def termination_constraint(trace):\n",
    "    # trace[2] - 28 returns 0 when the value loaded into the program matches the asserted input of 30\n",
    "    # trace[5] returns 0 when we aren't enforcing this rule.\n",
    "    # The product of these two terms returns 0 at each row of the original trace.\n",
    "    constraint = np.multiply(trace[2] - 28, trace[5]) % _field_size\n",
    "    return constraint\n",
    "\n",
    "\n",
    "termination_constraint_columns = termination_constraint(trace_data)\n",
    "termination_constraint_rs_expansion = termination_constraint(trace_rs_expansion)\n",
    "termination_constraint_zk_commitment = termination_constraint(trace_zk_commitment)\n",
    "\n",
    "\n",
    "# Constraint the Fibonacci intermediate compute step for the first previous input\n",
    "def first_recursion_constraint(trace):\n",
    "    # We check that the ith term in trace[0] matches the \"previous\" term in trace[1].\n",
    "    # We use \"previous\" to mean \"one computational step before.\"\n",
    "    # i.e., for trace_columns, we're checking trace[0][i] against trace[0][i-1], while\n",
    "    # for trace_zk_commitment and trace_rs_expansion, we're checking trace[0][i] vs. trace[1][i-4]\n",
    "    # We express this length-dependent step-size as len(trace[0])//8\n",
    "    # We also use \"previous\" in a cyclical sense, wrapping around to the end of the trace.\n",
    "    # Putting this together, the relation we are checking is:\n",
    "    #   trace[0][i] - trace[1][i - len(trace[0])//8 % len(trace[0])\n",
    "    # trace[4] is the associated indicator column; trace[4][i] = 0 when this rule isn't enforced.\n",
    "    constraint = np.zeros(len(trace[0]), int)\n",
    "    for i in range(len(trace[0])):\n",
    "        constraint[i] = ((trace[0][i] - trace[1][i - len(trace[0]) // 8 % len(trace[0])]) * trace[4][i]) % _field_size\n",
    "        constraint = np.array(constraint)\n",
    "    return constraint\n",
    "\n",
    "\n",
    "first_recursion_constraint_columns = first_recursion_constraint(trace_data)\n",
    "first_recursion_constraint_rs_expansion = first_recursion_constraint(trace_rs_expansion)\n",
    "first_recursion_constraint_zk_commitment = first_recursion_constraint(trace_zk_commitment)\n",
    "\n",
    "\n",
    "# Constraint the Fibonacci intermediate compute step for the second previous input\n",
    "def second_recursion_constraint(trace):\n",
    "    # We check that the ith term in trace[1] matches the \"previous\" term in trace[2].\n",
    "    # See first_recursion_constraint for explanation of \"previous.\"\n",
    "    # trace[4] is the associated indicator column; trace[4][i] = 0 when this rule isn't enforced.\n",
    "    constraint = np.zeros(len(trace[0]), int)\n",
    "    for i in range(len(trace[0])):\n",
    "        constraint[i] = ((trace[1][i] - trace[2][i - len(trace[0]) // 8 % len(trace[0])]) * trace[4][i]) % _field_size\n",
    "        constraint = np.array(constraint)\n",
    "    return constraint\n",
    "\n",
    "\n",
    "second_recursion_constraint_columns = second_recursion_constraint(trace_data)\n",
    "second_recursion_constraint_rs_expansion = second_recursion_constraint(trace_rs_expansion)\n",
    "second_recursion_constraint_zk_commitment = second_recursion_constraint(trace_zk_commitment)\n",
    "\n",
    "print(\"Constraint Blocks:\")\n",
    "print(\"Fib Constraint: \\n\", fib_constraint_zk_commitment)\n",
    "print(\"Init1 Constraint: \\n\", init1_constraint_zk_commitment)\n",
    "print(\"Init2 Constraint: \\n\", init2_constraint_zk_commitment)\n",
    "print(\"Termination Constraint: \\n\", termination_constraint_zk_commitment)\n",
    "print(\"First Recursion Constraint: \\n\", first_recursion_constraint_zk_commitment)\n",
    "print(\n",
    "    \"Second Recursion Constraint: \\n\",\n",
    "    second_recursion_constraint_zk_commitment,\n",
    ")"
   ],
   "id": "afdfcbaa5a367c9",
   "outputs": [
    {
     "name": "stdout",
     "output_type": "stream",
     "text": [
      "Constraint Blocks:\n",
      "Fib Constraint: \n",
      " [ 7 44 28 38 24 41 76 12 85 91 39 82 48  0  4 31 52 42 10 60 14 37 59  0\n",
      " 81  1  7 78 83 37 79  5]\n",
      "Init1 Constraint: \n",
      " [88 75 85 16 40  7 82 13 29 20 84 86 23 64  8 56 55 25 27 56 29 93 57 80\n",
      " 20 76 10 25 32  4  0 70]\n",
      "Init2 Constraint: \n",
      " [ 4 61 29 52 47  5  3 78 55 23 61 61 78 84 30 82 90 21  7 21 88 89 78 63\n",
      " 43 85  1 14 64 47 85 74]\n",
      "Termination Constraint: \n",
      " [31 95 29 32  8 41 47 22 32 90 51 58 46 22 60  2 76 65 37 82 34 18 82 44\n",
      " 10 77 88 13 70 50 88 78]\n",
      "First Recursion Constraint: \n",
      " [31 18 85 50 68 76 38 54 91 48 29 95 94 81 94 35 10 25 39 37 73 85  1  7\n",
      " 61 60 31 57 76 66 25 52]\n",
      "Second Recursion Constraint: \n",
      " [39 34 53 31 15 85 34 92 46 54 55 88 85 71 50 30 12 28 30 53 11 20 63 60\n",
      " 82 14 82 93 69 40 81 14]\n"
     ]
    }
   ],
   "execution_count": 206
  },
  {
   "metadata": {},
   "cell_type": "markdown",
   "source": [
    "# Lesson 7: Mixing Constraint Polynomials\n",
    "\n",
    "We mix the constraint polynomials into a single mixed constraint polynomial. In practice, this is a mix of evaluations over the zk-commitment domain. For clarity, we show the Mixed Constraint Polynomial as evaluations over the same three domains as above."
   ],
   "id": "961db40423904b2f"
  },
  {
   "metadata": {
    "ExecuteTime": {
     "end_time": "2024-10-23T12:41:53.509837Z",
     "start_time": "2024-10-23T12:41:53.506021Z"
    }
   },
   "cell_type": "code",
   "source": [
    "mixing_parameter = 3  # Normally, we would calculate this from a Merkle Tree root\n",
    "\n",
    "mixed_constraint_poly_columns = mix(\n",
    "    [\n",
    "        fib_constraint_columns,\n",
    "        init1_constraint_columns,\n",
    "        init2_constraint_columns,\n",
    "        termination_constraint_columns,\n",
    "        first_recursion_constraint_columns,\n",
    "        second_recursion_constraint_columns,\n",
    "    ],\n",
    "    mixing_parameter,\n",
    ")\n",
    "mixed_constraint_poly_rs_expansion = mix(\n",
    "    [\n",
    "        fib_constraint_rs_expansion,\n",
    "        init1_constraint_rs_expansion,\n",
    "        init2_constraint_rs_expansion,\n",
    "        termination_constraint_rs_expansion,\n",
    "        first_recursion_constraint_rs_expansion,\n",
    "        second_recursion_constraint_rs_expansion,\n",
    "    ],\n",
    "    mixing_parameter,\n",
    ")\n",
    "mixed_constraint_poly_zk_commitment = mix(\n",
    "    [\n",
    "        fib_constraint_zk_commitment,\n",
    "        init1_constraint_zk_commitment,\n",
    "        init2_constraint_zk_commitment,\n",
    "        termination_constraint_zk_commitment,\n",
    "        first_recursion_constraint_zk_commitment,\n",
    "        second_recursion_constraint_zk_commitment,\n",
    "    ],\n",
    "    mixing_parameter,\n",
    ")"
   ],
   "id": "e23409a7e70a2673",
   "outputs": [],
   "execution_count": 207
  },
  {
   "metadata": {},
   "cell_type": "markdown",
   "source": [
    "Although they stay in evaluation form throughout the protocol, we show the constraint polynomials in coefficient form for didactic clarity and troubleshooting. To convert between coefficient form and evaluation form of a given polynomial, we use iNTTs and NTTs.\n",
    "\n",
    "Computing coefficients of Constraint Polynomials:"
   ],
   "id": "318e1220ff93efeb"
  },
  {
   "metadata": {
    "ExecuteTime": {
     "end_time": "2024-10-23T12:41:53.579775Z",
     "start_time": "2024-10-23T12:41:53.573827Z"
    }
   },
   "cell_type": "code",
   "source": [
    "fib_constraint_poly_coeffs = intt(fib_constraint_rs_expansion, prime=_field_size)\n",
    "init1_constraint_poly_coeffs = intt(init1_constraint_rs_expansion, prime=_field_size)\n",
    "init2_constraint_poly_coeffs = intt(init2_constraint_rs_expansion, prime=_field_size)\n",
    "termination_constraint_poly_coeffs = intt(termination_constraint_rs_expansion, prime=_field_size)\n",
    "first_recursion_constraint_poly_coeffs = intt(first_recursion_constraint_rs_expansion, prime=_field_size)\n",
    "second_recursion_constraint_poly_coeffs = intt(second_recursion_constraint_rs_expansion, prime=_field_size)\n",
    "mixed_constraint_poly_coeffs = intt(mixed_constraint_poly_rs_expansion, prime=_field_size)\n",
    "\n",
    "print(\"Coefficients of Constraint Polynomials:\")\n",
    "print(\"Fibonacci Constraint: \", fib_constraint_poly_coeffs)\n",
    "print(\"Init1 Constraint: \", init1_constraint_poly_coeffs)\n",
    "print(\"Init2 Constraint: \", init2_constraint_poly_coeffs)\n",
    "print(\"Termination Constraint: \", termination_constraint_poly_coeffs)\n",
    "print(\"First Recursion Constraint: \", first_recursion_constraint_poly_coeffs)\n",
    "print(\"Second Recursion Constraint: \", second_recursion_constraint_poly_coeffs, \"\\n\")\n",
    "print(\"Mixed Constraint Coefficients: \\n\", mixed_constraint_poly_coeffs, \"\\n\")"
   ],
   "id": "21325254ff19497c",
   "outputs": [
    {
     "name": "stdout",
     "output_type": "stream",
     "text": [
      "Coefficients of Constraint Polynomials:\n",
      "Fibonacci Constraint:  [92, 7, 55, 24, 32, 52, 4, 0, 5, 90, 42, 73, 65, 45, 93, 0, 0, 0, 0, 0, 0, 0, 0, 0, 0, 0, 0, 0, 0, 0, 0, 0]\n",
      "Init1 Constraint:  [60, 7, 33, 59, 25, 53, 43, 0, 37, 90, 64, 38, 72, 44, 54, 0, 0, 0, 0, 0, 0, 0, 0, 0, 0, 0, 0, 0, 0, 0, 0, 0]\n",
      "Init2 Constraint:  [78, 60, 92, 61, 90, 72, 69, 0, 19, 37, 5, 36, 7, 25, 28, 0, 0, 0, 0, 0, 0, 0, 0, 0, 0, 0, 0, 0, 0, 0, 0, 0]\n",
      "Termination Constraint:  [19, 52, 5, 42, 78, 45, 84, 0, 78, 45, 92, 55, 19, 52, 13, 0, 0, 0, 0, 0, 0, 0, 0, 0, 0, 0, 0, 0, 0, 0, 0, 0]\n",
      "First Recursion Constraint:  [65, 79, 18, 53, 85, 55, 76, 0, 32, 18, 79, 44, 12, 42, 21, 0, 0, 0, 0, 0, 0, 0, 0, 0, 0, 0, 0, 0, 0, 0, 0, 0]\n",
      "Second Recursion Constraint:  [8, 19, 93, 49, 41, 9, 73, 0, 89, 78, 4, 48, 56, 88, 24, 0, 0, 0, 0, 0, 0, 0, 0, 0, 0, 0, 0, 0, 0, 0, 0, 0] \n",
      "\n",
      "Mixed Constraint Coefficients: \n",
      " [63, 87, 51, 42, 83, 83, 48, 0, 34, 10, 46, 55, 14, 14, 49, 0, 0, 0, 0, 0, 0, 0, 0, 0, 0, 0, 0, 0, 0, 0, 0, 0] \n",
      "\n"
     ]
    }
   ],
   "execution_count": 208
  },
  {
   "metadata": {},
   "cell_type": "markdown",
   "source": [
    "We now introduce the Zeros Polynomial, which is used to compute the Validity Polynomial.\n",
    "\n",
    "The Zeros Polynomial is $Z(x) = x^8 - 1$\n",
    "\n",
    "Remember the \"difference of perfect squares\" from Algebra II?\n",
    "\n",
    "It turns out that this \"difference of perfect 8th powers\" works out very nicely over finite fields.\n",
    "\n",
    "$Z(x) = (x - 5^0)(x - 5^{12})(x - 5^{24})...(x-5^{84})$\n",
    "\n",
    "The next term in the pattern would be $(x-5^{96})$, which \"wraps around\" quite nicely since $5^0 = 5^{96}$."
   ],
   "id": "f15a8586a0027889"
  },
  {
   "metadata": {
    "ExecuteTime": {
     "end_time": "2024-10-23T12:41:53.639518Z",
     "start_time": "2024-10-23T12:41:53.630684Z"
    }
   },
   "cell_type": "code",
   "source": [
    "zeros_poly_coeffs = [-1, 0, 0, 0, 0, 0, 0, 0, 1]\n",
    "zeros_poly_evals_rs_expansion = expanded_domain.evaluate(zeros_poly_coeffs)\n",
    "zeros_poly_evals_zk_commitment = zk_commitment_domain.evaluate(zeros_poly_coeffs)\n",
    "print(\"Zeros Polynomial coefficients: \\n\", zeros_poly_coeffs)\n",
    "print(\n",
    "    \"Zeros Polynomial evaluated on Reed Solomon expansion domain: \\n\",\n",
    "    zeros_poly_evals_rs_expansion,\n",
    ")\n",
    "print(\n",
    "    \"Zeros Polynomial evaluated on zk-commitment domain: \\n\",\n",
    "    zeros_poly_evals_zk_commitment,\n",
    "    \"\\n\",\n",
    ")\n",
    "\n",
    "# Constructing reciprocals of Zeros Polynomial evals to facilitate computation\n",
    "reciprocals_of_zeros_poly = reciprocal_elementwise(zeros_poly_evals_zk_commitment)"
   ],
   "id": "d185f1f0d2ba3d48",
   "outputs": [
    {
     "name": "stdout",
     "output_type": "stream",
     "text": [
      "Zeros Polynomial coefficients: \n",
      " [-1, 0, 0, 0, 0, 0, 0, 0, 1]\n",
      "Zeros Polynomial evaluated on Reed Solomon expansion domain: \n",
      " [ 0 21 95 74  0 21 95 74  0 21 95 74  0 21 95 74  0 21 95 74  0 21 95 74\n",
      "  0 21 95 74  0 21 95 74]\n",
      "Zeros Polynomial evaluated on zk-commitment domain: \n",
      " [ 5 34 90 61  5 34 90 61  5 34 90 61  5 34 90 61  5 34 90 61  5 34 90 61\n",
      "  5 34 90 61  5 34 90 61] \n",
      "\n"
     ]
    }
   ],
   "execution_count": 209
  },
  {
   "metadata": {},
   "cell_type": "markdown",
   "source": [
    "# Lesson 8: The core of the RISC Zero STARK\n",
    "\n",
    "## Constructing Validity Polynomial\n",
    "\n",
    "The Validity Polynomial is the quotient of the Mixed Constraint Polynomial and the Zeros Polynomial. \n",
    "\n",
    "The Prover constructs the Validity Polynomial by dividing the Mixed Constraint Polynomial by the publicly known Zeros Polynomial: $V(x) = C(x)/Z(x)$\n",
    "\n",
    "These evaluations are committed to a Merkle tree, and the root of that tree is appended to the seal.\n",
    "The rest of the protocol aims to prove that the commitments for the trace polynomials and the validity polynomials are actually evaluations of low-degree polynomials that satisfy V=C/Z as asserted.\"\n",
    "\n",
    "Constructing coefficients of validity polynomial for use in DEEP:"
   ],
   "id": "3ab8f4b6b3a390e8"
  },
  {
   "metadata": {
    "ExecuteTime": {
     "end_time": "2024-10-23T12:41:53.705876Z",
     "start_time": "2024-10-23T12:41:53.689062Z"
    }
   },
   "cell_type": "code",
   "source": [
    "validity_polynomial_evals = np.multiply(mixed_constraint_poly_zk_commitment, reciprocals_of_zeros_poly) % _field_size\n",
    "print(\n",
    "    \"Evaluations of Validity Polynomial on the zk-commitment domain \\n\",\n",
    "    validity_polynomial_evals,\n",
    "    \"\\n\",\n",
    ")\n",
    "\n",
    "evalmatrix_inv = np.linalg.inv(_finite_field_array(zk_commitment_domain.as_vandermonde_matrix()))\n",
    "validity_polynomial_coeffs = np.array(evalmatrix_inv @ _finite_field_array(validity_polynomial_evals))"
   ],
   "id": "cc47697ecf8aa66e",
   "outputs": [
    {
     "name": "stdout",
     "output_type": "stream",
     "text": [
      "Evaluations of Validity Polynomial on the zk-commitment domain \n",
      " [85 63 91  8 86 34 75 85 39  6  2 24 52  4 62 90  3 35 47 76 23 16 68 25\n",
      " 89 11 10 51 89  6 14 10] \n",
      "\n"
     ]
    }
   ],
   "execution_count": 210
  },
  {
   "metadata": {},
   "cell_type": "markdown",
   "source": [
    "# Lesson 9: The DEEP Technique\n",
    "\n",
    "The DEEP technique is a means of improving the security level associated with a single query by sampling from a larger domain than the commitment domain.\n",
    "\n",
    "The Prover provides information to convince the verifier that the Merkle commitments satisfy the relation $V(x)=C(x)/Z(x)$, where $x$ is at the `DEEP_test_point`."
   ],
   "id": "76edb8da3df9c5e4"
  },
  {
   "metadata": {
    "ExecuteTime": {
     "end_time": "2024-10-23T12:41:53.775726Z",
     "start_time": "2024-10-23T12:41:53.750230Z"
    }
   },
   "cell_type": "code",
   "source": [
    "DEEP_test_point = 93  # TODO: How to select this point?\n",
    "\n",
    "# The DEEP Polynomials all share the following denominator:\n",
    "DEEP_denom = (zk_commitment_domain.domain - DEEP_test_point) % _field_size\n",
    "\n",
    "# We rewrite DEEP_denom in terms of reciprocals to facilitate computation later:\n",
    "DEEP_denom = reciprocal_elementwise(DEEP_denom)\n",
    "\n",
    "# TODO: Implement Interpolation of taps for DEEP_poly2 & DEEP_poly3\n",
    "\n",
    "DEEP_poly1_evals = DEEPquotient(\n",
    "    d1_zk_commitment,\n",
    "    zk_commitment_domain.domain,\n",
    "    DEEP_test_point,\n",
    "    evaluate_at_point(d1_coeffs, DEEP_test_point),\n",
    ")\n",
    "# DEEP_poly2 = hard-coded for now\n",
    "# DEEP Poly 3 = hard-coded for now\n",
    "DEEP_poly4_evals = DEEPquotient(\n",
    "    c1_zk_commitment,\n",
    "    zk_commitment_domain.domain,\n",
    "    DEEP_test_point,\n",
    "    evaluate_at_point(c1_coeffs, DEEP_test_point),\n",
    ")\n",
    "DEEP_poly5_evals = DEEPquotient(\n",
    "    c2_zk_commitment,\n",
    "    zk_commitment_domain.domain,\n",
    "    DEEP_test_point,\n",
    "    evaluate_at_point(c2_coeffs, DEEP_test_point),\n",
    ")\n",
    "DEEP_poly6_evals = DEEPquotient(\n",
    "    c3_zk_commitment,\n",
    "    zk_commitment_domain.domain,\n",
    "    DEEP_test_point,\n",
    "    evaluate_at_point(c3_coeffs, DEEP_test_point),\n",
    ")\n",
    "DEEPValidity_evals = DEEPquotient(\n",
    "    validity_polynomial_evals,\n",
    "    zk_commitment_domain.domain,\n",
    "    DEEP_test_point,\n",
    "    evaluate_at_point(validity_polynomial_coeffs, DEEP_test_point),\n",
    ")\n",
    "\n",
    "# Hard-coding DEEP Polynomial evaluations for now\n",
    "DEEP_poly2_evals = [\n",
    "    19,\n",
    "    74,\n",
    "    82,\n",
    "    13,\n",
    "    48,\n",
    "    30,\n",
    "    17,\n",
    "    58,\n",
    "    93,\n",
    "    63,\n",
    "    64,\n",
    "    42,\n",
    "    45,\n",
    "    10,\n",
    "    21,\n",
    "    71,\n",
    "    1,\n",
    "    52,\n",
    "    72,\n",
    "    71,\n",
    "    60,\n",
    "    10,\n",
    "    8,\n",
    "    44,\n",
    "    41,\n",
    "    5,\n",
    "    14,\n",
    "    16,\n",
    "    49,\n",
    "    15,\n",
    "    78,\n",
    "    41,\n",
    "]\n",
    "\n",
    "# Hard-coding DEEP Polynomial evaluations for now\n",
    "DEEP_poly3_evals = [\n",
    "    84,\n",
    "    63,\n",
    "    89,\n",
    "    93,\n",
    "    75,\n",
    "    36,\n",
    "    11,\n",
    "    80,\n",
    "    44,\n",
    "    23,\n",
    "    40,\n",
    "    11,\n",
    "    80,\n",
    "    33,\n",
    "    38,\n",
    "    50,\n",
    "    72,\n",
    "    33,\n",
    "    35,\n",
    "    78,\n",
    "    8,\n",
    "    8,\n",
    "    86,\n",
    "    36,\n",
    "    9,\n",
    "    25,\n",
    "    88,\n",
    "    95,\n",
    "    65,\n",
    "    22,\n",
    "    50,\n",
    "    91,\n",
    "]\n",
    "\n",
    "print(\"Interpolation of DEEP Poly 1:\\n\", intt(DEEP_poly1_evals, _field_size))\n",
    "print(\"Interpolations of DEEP_poly2: \\n\", intt(DEEP_poly2_evals, _field_size))\n",
    "print(\"Interpolations of DEEP_poly3: \\n\", intt(DEEP_poly3_evals, _field_size))\n",
    "print(\"interpolation of DEEP poly 4: \\n\", intt(DEEP_poly4_evals, _field_size))\n",
    "print(\"interpolation of DEEP poly 5:\\n\", intt(DEEP_poly5_evals, _field_size))\n",
    "print(\"interpolation of DEEP poly 6:\\n\", intt(DEEP_poly6_evals, _field_size))\n",
    "print(\n",
    "    \"interpolation of DEEP Validity Polynomial:\\n\",\n",
    "    intt(DEEPValidity_evals, _field_size),\n",
    ")"
   ],
   "id": "34bbbc2ff4d9cc01",
   "outputs": [
    {
     "name": "stdout",
     "output_type": "stream",
     "text": [
      "Interpolation of DEEP Poly 1:\n",
      " [50, 38, 40, 48, 23, 56, 61, 0, 0, 0, 0, 0, 0, 0, 0, 0, 0, 0, 0, 0, 0, 0, 0, 0, 0, 0, 0, 0, 0, 0, 0, 0]\n",
      "Interpolations of DEEP_poly2: \n",
      " [93, 39, 20, 48, 91, 19, 0, 0, 0, 0, 0, 0, 0, 0, 0, 0, 0, 0, 0, 0, 0, 0, 0, 0, 0, 0, 0, 0, 0, 0, 0, 0]\n",
      "Interpolations of DEEP_poly3: \n",
      " [91, 94, 50, 50, 34, 56, 0, 0, 0, 0, 0, 0, 0, 0, 0, 0, 0, 0, 0, 0, 0, 0, 0, 0, 0, 0, 0, 0, 0, 0, 0, 0]\n",
      "interpolation of DEEP poly 4: \n",
      " [58, 58, 95, 64, 82, 77, 1, 0, 0, 0, 0, 0, 0, 0, 0, 0, 0, 0, 0, 0, 0, 0, 0, 0, 0, 0, 0, 0, 0, 0, 0, 0]\n",
      "interpolation of DEEP poly 5:\n",
      " [4, 95, 29, 53, 87, 85, 39, 0, 0, 0, 0, 0, 0, 0, 0, 0, 0, 0, 0, 0, 0, 0, 0, 0, 0, 0, 0, 0, 0, 0, 0, 0]\n",
      "interpolation of DEEP poly 6:\n",
      " [89, 0, 96, 6, 73, 72, 50, 0, 0, 0, 0, 0, 0, 0, 0, 0, 0, 0, 0, 0, 0, 0, 0, 0, 0, 0, 0, 0, 0, 0, 0, 0]\n",
      "interpolation of DEEP Validity Polynomial:\n",
      " [69, 96, 22, 18, 31, 59, 0, 0, 0, 0, 0, 0, 0, 0, 0, 0, 0, 0, 0, 0, 0, 0, 0, 0, 0, 0, 0, 0, 0, 0, 0, 0]\n"
     ]
    }
   ],
   "execution_count": 211
  },
  {
   "metadata": {},
   "cell_type": "markdown",
   "source": [
    "# Lesson 10: Mixing (Batching) for FRI\n",
    "\n",
    "The initial FRI polynomial is the mix of the 7 DEEP polynomials."
   ],
   "id": "f5b194966240b101"
  },
  {
   "metadata": {
    "ExecuteTime": {
     "end_time": "2024-10-23T12:41:53.829378Z",
     "start_time": "2024-10-23T12:41:53.826259Z"
    }
   },
   "cell_type": "code",
   "source": [
    "fri_input = mix(\n",
    "    [\n",
    "        DEEP_poly1_evals,\n",
    "        DEEP_poly2_evals,\n",
    "        DEEP_poly3_evals,\n",
    "        DEEP_poly4_evals,\n",
    "        DEEP_poly5_evals,\n",
    "        DEEP_poly6_evals,\n",
    "        DEEPValidity_evals,\n",
    "    ],\n",
    "    21,\n",
    ")"
   ],
   "id": "6ce60cef8468d061",
   "outputs": [],
   "execution_count": 212
  },
  {
   "metadata": {},
   "cell_type": "markdown",
   "source": "Interpolation of initial FRI Input",
   "id": "2d0be09bc9a7b917"
  },
  {
   "metadata": {
    "ExecuteTime": {
     "end_time": "2024-10-23T12:41:53.877224Z",
     "start_time": "2024-10-23T12:41:53.873209Z"
    }
   },
   "cell_type": "code",
   "source": [
    "print(intt(fri_input, _field_size))"
   ],
   "id": "4f01367d0d1d941e",
   "outputs": [
    {
     "name": "stdout",
     "output_type": "stream",
     "text": [
      "[81, 94, 68, 81, 82, 0, 19, 0, 0, 0, 0, 0, 0, 0, 0, 0, 0, 0, 0, 0, 0, 0, 0, 0, 0, 0, 0, 0, 0, 0, 0, 0]\n"
     ]
    }
   ],
   "execution_count": 213
  },
  {
   "metadata": {},
   "cell_type": "markdown",
   "source": "With the \"batching\" complete, we're ready for the FRI commit rounds.",
   "id": "1e92b5011adb5069"
  },
  {
   "metadata": {},
   "cell_type": "markdown",
   "source": [
    "# Lesson 11: FRI Commit Rounds\n",
    "\n",
    "In this part of the protocol, the Prover provides information to convince the verifier that the DEEP polynomials are low-degree.\n",
    "\n",
    "It follows that the Trace & Validity polynomials are also low-degree."
   ],
   "id": "654d8c29262c27bc"
  },
  {
   "metadata": {
    "ExecuteTime": {
     "end_time": "2024-10-23T12:41:53.954212Z",
     "start_time": "2024-10-23T12:41:53.927744Z"
    }
   },
   "cell_type": "code",
   "source": [
    "mixing_parameters_fri = np.array([1, 3, 22])\n",
    "fri_rounds = len(mixing_parameters_fri)\n",
    "\n",
    "# Run (fri_rounds) rounds of FRI commit\n",
    "print(\"FRI Commit Phase\")\n",
    "final_fri_block = EvaluationDomain(\n",
    "    fri(\n",
    "        fri_input,\n",
    "        zk_commitment_domain,\n",
    "        mixing_parameters_fri,\n",
    "        fri_rounds,\n",
    "        fri_rounds,\n",
    "    )\n",
    ").evaluation_domain_of_half_size.domain"
   ],
   "id": "90e58606c9b257af",
   "outputs": [
    {
     "name": "stdout",
     "output_type": "stream",
     "text": [
      "FRI Commit Phase\n",
      "\n",
      "--- begin round 1 ---\n",
      "D_super_( 0 ): [ 5 43 40 53 29 36 38 94 13 73  7  2 56 16 60 31 92 54 57 44 68 61 59  3\n",
      " 84 24 90 95 41 81 37 66]\n",
      "Split blocks: \n",
      " [15 36 34 22 43 66 25 86 10 88 24 80 62 37 47 39] \n",
      " [88 68  5 83 28 73 45 15 66 86 52 71 29 81 12 42]\n",
      "Now mix those blocks using the mix parameter 1\n",
      "FRI Commitment (aka f_super_( 1 ): [ 6  7 39  8 71 42 70  4 76 77 76 54 91 21 59 81]\n",
      "\n",
      "--- begin round 2 ---\n",
      "D_super_( 1 ): [np.int64(5), np.int64(40), np.int64(29), np.int64(38), np.int64(13), np.int64(7), np.int64(56), np.int64(60), np.int64(92), np.int64(57), np.int64(68), np.int64(59), np.int64(84), np.int64(90), np.int64(41), np.int64(37)]\n",
      "Split blocks: \n",
      " [57 96 70 55 65 26 52 67] \n",
      " [91 51 13  6 43 83 24 31]\n",
      "Now mix those blocks using the mix parameter 3\n",
      "FRI Commitment (aka f_super_( 2 ): [39 55 12 73  0 81 27 63]\n",
      "\n",
      "--- begin round 3 ---\n",
      "D_super_( 2 ): [np.int64(5), np.int64(29), np.int64(13), np.int64(56), np.int64(92), np.int64(68), np.int64(84), np.int64(41)]\n",
      "Split blocks: \n",
      " [68 68 68 68] \n",
      " [33 33 33 33]\n",
      "Now mix those blocks using the mix parameter 22\n",
      "FRI Commitment (aka f_super_( 3 ): [18 18 18 18]\n",
      "D_super_( 3 ): [np.int64(5), np.int64(13), np.int64(92), np.int64(84)]\n"
     ]
    }
   ],
   "execution_count": 214
  },
  {
   "metadata": {},
   "cell_type": "markdown",
   "source": [
    "The Prover sends this final FRI Commitment in full, rather than as a hash.\n",
    "\n",
    "The Verifier can confirm manually that the final FRI commitment is indeed a low-degree polynomial."
   ],
   "id": "c280db4ff3a1c04e"
  },
  {
   "metadata": {},
   "cell_type": "markdown",
   "source": [
    "# Lesson 12: FRI Query Phase\n",
    "\n",
    "The FRI Query phase confirms the correctness of the folding at each round of the FRI commit phase.\n",
    "In the Batched FRI protocol, the query phase also checks the correctness of the FRI batching.\n",
    "\n",
    "We only show a single query, and we only instantiate the check for the final round of FRI folding.\n",
    "Future improvements may extend this to include a more complete implementation of FRI queries.\n",
    "\n",
    "The notation here matches what's described on page 39 of Proximity Gaps for Reed-Solomon Codes.\n",
    "For a more complete description of the query phase, see https://eprint.iacr.org/2020/654\n",
    "\n",
    "## Specifying query location\n",
    "\n",
    "The verifier specifies a query location `g_super_(3)` from `D_super_(3)`\n"
   ],
   "id": "e1ba34fc312e1b03"
  },
  {
   "metadata": {
    "ExecuteTime": {
     "end_time": "2024-10-23T12:41:53.986879Z",
     "start_time": "2024-10-23T12:41:53.982973Z"
    }
   },
   "cell_type": "code",
   "source": [
    "g_super_3_index = 25\n",
    "g_super_3 = mod_pow(5, g_super_3_index)\n",
    "print(\"Choose g_super_(3) = 5^{} = {}.\\n\".format(g_super_3_index, g_super_3))"
   ],
   "id": "c49927f18d99b327",
   "outputs": [
    {
     "name": "stdout",
     "output_type": "stream",
     "text": [
      "Choose g_super_(3) = 5^25 = 13.\n",
      "\n"
     ]
    }
   ],
   "execution_count": 215
  },
  {
   "metadata": {},
   "cell_type": "markdown",
   "source": [
    "Now, the prover provides 2 evaluations from `f_super_(2)`. The verifier will use these evaluations to confirm the purported value of `f_super_(3)`. The details here are rather hairy:\n",
    "\n",
    "## Query location determines coset\n",
    "\n",
    "The choice of `g_super_3` determines a coset `C_super_2`.\n"
   ],
   "id": "4dc439a2fc6a7663"
  },
  {
   "metadata": {
    "ExecuteTime": {
     "end_time": "2024-10-23T12:41:54.043169Z",
     "start_time": "2024-10-23T12:41:54.038909Z"
    }
   },
   "cell_type": "code",
   "source": [
    "print(\n",
    "    \"C_super_(2) = {{ g : g/5 is a square root of (g_super_3)/5 }} = {{ 5^{}, 5^{} }}\".format(\n",
    "        (g_super_3_index - 1) // 2 + 1,\n",
    "        (g_super_3_index - 1) // 2 + (_field_size + 1) // 2,\n",
    "    )\n",
    ")\n",
    "C_super_2 = EvaluationDomain(\n",
    "    [\n",
    "        mod_pow(5, ((g_super_3_index - 1) // 2 + 1)),\n",
    "        mod_pow(5, ((g_super_3_index - 1) // 2 + (_field_size + 1) // 2)),\n",
    "    ]\n",
    ")"
   ],
   "id": "9fd02cf54a4486b",
   "outputs": [
    {
     "name": "stdout",
     "output_type": "stream",
     "text": [
      "C_super_(2) = { g : g/5 is a square root of (g_super_3)/5 } = { 5^13, 5^61 }\n"
     ]
    }
   ],
   "execution_count": 216
  },
  {
   "metadata": {},
   "cell_type": "markdown",
   "source": [
    "The prover provides the evaluations of `f_super_2` on each of the elements of `C_super_2`.\n",
    "\n",
    "The coset `C_super_2` determines a Vandermonde Matrix `M_super_2`."
   ],
   "id": "38aeb7d73987baf9"
  },
  {
   "metadata": {
    "ExecuteTime": {
     "end_time": "2024-10-23T12:41:54.100903Z",
     "start_time": "2024-10-23T12:41:54.094558Z"
    }
   },
   "cell_type": "code",
   "source": [
    "M_super_2 = np.linalg.inv(_finite_field_array(C_super_2.as_vandermonde_matrix()))\n",
    "print(\"M_super_2 = inverse_vandermonde(C_super_2) = \\n\", M_super_2)\n",
    "\n",
    "# boldface_z_super_2 is the vector of powers of the mixing parameters\n",
    "boldface_z_super_2 = EvaluationDomain([1, mixing_parameters_fri[2]])\n",
    "\n",
    "# Checking folding\n",
    "# See page 39 of Proximity Gaps for RS Codes\n",
    "expected = np.dot(\n",
    "    _finite_field_array(boldface_z_super_2.domain),\n",
    "    (M_super_2 @ _finite_field_array(final_fri_block)),\n",
    ")\n",
    "\n",
    "# Reject if f_super_3 evaluated @ g_super_(3) != expected\n",
    "# Evaluate the polynomial at g_super_3 in the finite field\n",
    "f_super_3_at_g_super_3 = np.polyval(final_fri_block, g_super_3) % _field_size\n",
    "print(expected, \"==\", f_super_3_at_g_super_3)\n",
    "# assert expected == f_super_3_at_g_super_3 # TODO: Fix"
   ],
   "id": "a41af4582ed2508f",
   "outputs": [
    {
     "name": "stdout",
     "output_type": "stream",
     "text": [
      "M_super_2 = inverse_vandermonde(C_super_2) = \n",
      " [[49 49]\n",
      " [92  5]]\n",
      "18 == 58\n"
     ]
    }
   ],
   "execution_count": 217
  },
  {
   "cell_type": "markdown",
   "id": "6bdd7df1-6bf5-4ed4-8056-f222e89fb677",
   "metadata": {},
   "source": [
    "Now, the verifier can use the check shown in step (3) of `A single invocation of the batched QUERY phase.`\n",
    "\n",
    "Check the source code or page 39 of the ProxGaps paper to see a detailed description of this check.\n",
    "\n",
    "The verifier computes an `expected` value for f₃ evaluated at g₃ and checks the result against the purported value provided earlier.\n",
    "\n",
    "This check confirms the correctness of the folding from f₂ to f₃.\n",
    "\n",
    "A more complete demonstration of a FRI query would include an analogous check to confirm the correctness of each round of FRI folding, and a check to confirm the initial FRI batching.\n",
    "\n",
    "---\n",
    "\n",
    "**Congratulations!**  \n",
    "You've just run a (mostly) complete STARK protocol, including DEEP-ALI, FRI committing, and a FRI query.\n",
    "\n",
    "For a more visual & more verbose walk-through of this example, check out our STARK by Hand explainer:  \n",
    "[https://dev.risczero.com/proof-system/stark-by-hand](https://dev.risczero.com/proof-system/stark-by-hand)\n",
    "\n",
    "We also have videos at [https://dev.risczero.com/studyclub](https://dev.risczero.com/studyclub) that walk through a large portion of these ideas.\n",
    "\n",
    "We hope you find these resources useful - Happy learning!  \n",
    "Got questions/feedback? Find us on Discord: [https://discord.gg/risczero](https://discord.gg/risczero)"
   ]
  },
  {
   "metadata": {
    "ExecuteTime": {
     "end_time": "2024-10-23T12:41:54.249289Z",
     "start_time": "2024-10-23T12:41:54.246962Z"
    }
   },
   "cell_type": "code",
   "source": "",
   "id": "cf87f16378a0d2bf",
   "outputs": [],
   "execution_count": null
  }
 ],
 "metadata": {
  "kernelspec": {
   "display_name": "Python 3 (ipykernel)",
   "language": "python",
   "name": "python3"
  },
  "language_info": {
   "codemirror_mode": {
    "name": "ipython",
    "version": 3
   },
   "file_extension": ".py",
   "mimetype": "text/x-python",
   "name": "python",
   "nbconvert_exporter": "python",
   "pygments_lexer": "ipython3",
   "version": "3.10.12"
  }
 },
 "nbformat": 4,
 "nbformat_minor": 5
}
