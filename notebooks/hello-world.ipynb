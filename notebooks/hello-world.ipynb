{
 "cells": [
  {
   "metadata": {},
   "cell_type": "markdown",
   "source": [
    "# Hello World!\n",
    "\n",
    "Starting up with a bit of Diffie-Hellman"
   ],
   "id": "9a649e38097a6892"
  },
  {
   "metadata": {
    "ExecuteTime": {
     "end_time": "2024-10-19T10:31:14.706654Z",
     "start_time": "2024-10-19T10:31:13.320047Z"
    }
   },
   "cell_type": "code",
   "source": [
    "import random\n",
    "\n",
    "import galois\n",
    "\n",
    "# Define our field\n",
    "GF = galois.GF(2 ** 8)\n",
    "G = GF.primitive_element\n",
    "\n",
    "\n",
    "def rand_scalar():\n",
    "    return random.randint(0, GF.order - 1)\n",
    "\n",
    "\n",
    "# Alice generates a random scalar `a` and computes `A = g^a`.\n",
    "a = rand_scalar()\n",
    "A = G ** a\n",
    "\n",
    "# Bob generates a random scalar `b` and computes `B = g^b`.\n",
    "b = rand_scalar()\n",
    "B = G ** b\n",
    "\n",
    "# Alice and Bob exchange `A` and `B` over the insecure channel.\n",
    "\n",
    "# Alice computes the shared secret key as `B^a`.\n",
    "alice_S = B ** a\n",
    "\n",
    "# Bob computes the shared secret key as `A^b`.\n",
    "bob_S = A ** b\n",
    "\n",
    "assert alice_S == bob_S"
   ],
   "id": "c57ed2be01ff6a42",
   "outputs": [],
   "execution_count": 1
  }
 ],
 "metadata": {
  "kernelspec": {
   "display_name": "Python 3",
   "language": "python",
   "name": "python3"
  },
  "language_info": {
   "codemirror_mode": {
    "name": "ipython",
    "version": 2
   },
   "file_extension": ".py",
   "mimetype": "text/x-python",
   "name": "python",
   "nbconvert_exporter": "python",
   "pygments_lexer": "ipython2",
   "version": "2.7.6"
  }
 },
 "nbformat": 4,
 "nbformat_minor": 5
}
